{
 "cells": [
  {
   "cell_type": "code",
   "execution_count": 1,
   "metadata": {},
   "outputs": [],
   "source": [
    "import pandas as pd\n",
    "df = pd.read_csv('startup_funding.csv')"
   ]
  },
  {
   "cell_type": "code",
   "execution_count": 2,
   "metadata": {},
   "outputs": [
    {
     "name": "stdout",
     "output_type": "stream",
     "text": [
      "<class 'pandas.core.frame.DataFrame'>\n",
      "RangeIndex: 3009 entries, 0 to 3008\n",
      "Data columns (total 10 columns):\n",
      "Sr No                      3009 non-null int64\n",
      "Date ddmmyyyy              3009 non-null object\n",
      "Startup Name               3009 non-null object\n",
      "Industry Vertical          2838 non-null object\n",
      "SubVertical                2073 non-null object\n",
      "City  Location             2829 non-null object\n",
      "Investorsxe2x80x99 Name    2986 non-null object\n",
      "InvestmentnType            3006 non-null object\n",
      "Amount in USD              2049 non-null object\n",
      "Remarks                    419 non-null object\n",
      "dtypes: int64(1), object(9)\n",
      "memory usage: 235.2+ KB\n"
     ]
    }
   ],
   "source": [
    "df.info()"
   ]
  },
  {
   "cell_type": "markdown",
   "metadata": {},
   "source": [
    "### Buat DataFrame yang mendeskripsikan Tiap Tiap kolom dari data Startup Funding"
   ]
  },
  {
   "cell_type": "code",
   "execution_count": 3,
   "metadata": {},
   "outputs": [
    {
     "data": {
      "text/html": [
       "<div>\n",
       "<style scoped>\n",
       "    .dataframe tbody tr th:only-of-type {\n",
       "        vertical-align: middle;\n",
       "    }\n",
       "\n",
       "    .dataframe tbody tr th {\n",
       "        vertical-align: top;\n",
       "    }\n",
       "\n",
       "    .dataframe thead th {\n",
       "        text-align: right;\n",
       "    }\n",
       "</style>\n",
       "<table border=\"1\" class=\"dataframe\">\n",
       "  <thead>\n",
       "    <tr style=\"text-align: right;\">\n",
       "      <th></th>\n",
       "      <th>dataFeatures</th>\n",
       "      <th>dataType</th>\n",
       "      <th>null</th>\n",
       "      <th>nullPct</th>\n",
       "      <th>unique</th>\n",
       "      <th>uniqueSample</th>\n",
       "    </tr>\n",
       "  </thead>\n",
       "  <tbody>\n",
       "    <tr>\n",
       "      <th>0</th>\n",
       "      <td>Sr No</td>\n",
       "      <td>int64</td>\n",
       "      <td>0</td>\n",
       "      <td>0.0</td>\n",
       "      <td>3009</td>\n",
       "      <td>[1014, 2047]</td>\n",
       "    </tr>\n",
       "    <tr>\n",
       "      <th>1</th>\n",
       "      <td>Date ddmmyyyy</td>\n",
       "      <td>object</td>\n",
       "      <td>0</td>\n",
       "      <td>0.0</td>\n",
       "      <td>1013</td>\n",
       "      <td>[02/02/2015, 08/07/2015]</td>\n",
       "    </tr>\n",
       "    <tr>\n",
       "      <th>2</th>\n",
       "      <td>Startup Name</td>\n",
       "      <td>object</td>\n",
       "      <td>0</td>\n",
       "      <td>0.0</td>\n",
       "      <td>2439</td>\n",
       "      <td>[Ola Cabs, Swiggy]</td>\n",
       "    </tr>\n",
       "    <tr>\n",
       "      <th>3</th>\n",
       "      <td>Industry Vertical</td>\n",
       "      <td>object</td>\n",
       "      <td>171</td>\n",
       "      <td>0.0</td>\n",
       "      <td>811</td>\n",
       "      <td>[Consumer Internet, Technology]</td>\n",
       "    </tr>\n",
       "    <tr>\n",
       "      <th>4</th>\n",
       "      <td>SubVertical</td>\n",
       "      <td>object</td>\n",
       "      <td>936</td>\n",
       "      <td>0.0</td>\n",
       "      <td>1912</td>\n",
       "      <td>[Online Lending Platform, Online Pharmacy]</td>\n",
       "    </tr>\n",
       "    <tr>\n",
       "      <th>5</th>\n",
       "      <td>City  Location</td>\n",
       "      <td>object</td>\n",
       "      <td>180</td>\n",
       "      <td>0.0</td>\n",
       "      <td>109</td>\n",
       "      <td>[Bangalore, Mumbai]</td>\n",
       "    </tr>\n",
       "    <tr>\n",
       "      <th>6</th>\n",
       "      <td>Investorsxe2x80x99 Name</td>\n",
       "      <td>object</td>\n",
       "      <td>23</td>\n",
       "      <td>0.0</td>\n",
       "      <td>2385</td>\n",
       "      <td>[Undisclosed Investors, Undisclosed investors]</td>\n",
       "    </tr>\n",
       "    <tr>\n",
       "      <th>7</th>\n",
       "      <td>InvestmentnType</td>\n",
       "      <td>object</td>\n",
       "      <td>3</td>\n",
       "      <td>0.0</td>\n",
       "      <td>50</td>\n",
       "      <td>[Private Equity, Seed Funding]</td>\n",
       "    </tr>\n",
       "    <tr>\n",
       "      <th>8</th>\n",
       "      <td>Amount in USD</td>\n",
       "      <td>object</td>\n",
       "      <td>960</td>\n",
       "      <td>0.0</td>\n",
       "      <td>500</td>\n",
       "      <td>[1,000,000, 500,000]</td>\n",
       "    </tr>\n",
       "    <tr>\n",
       "      <th>9</th>\n",
       "      <td>Remarks</td>\n",
       "      <td>object</td>\n",
       "      <td>2590</td>\n",
       "      <td>100.0</td>\n",
       "      <td>72</td>\n",
       "      <td>[Series A, Series B]</td>\n",
       "    </tr>\n",
       "  </tbody>\n",
       "</table>\n",
       "</div>"
      ],
      "text/plain": [
       "              dataFeatures dataType  null  nullPct  unique  \\\n",
       "0                    Sr No    int64     0      0.0    3009   \n",
       "1            Date ddmmyyyy   object     0      0.0    1013   \n",
       "2             Startup Name   object     0      0.0    2439   \n",
       "3        Industry Vertical   object   171      0.0     811   \n",
       "4              SubVertical   object   936      0.0    1912   \n",
       "5           City  Location   object   180      0.0     109   \n",
       "6  Investorsxe2x80x99 Name   object    23      0.0    2385   \n",
       "7          InvestmentnType   object     3      0.0      50   \n",
       "8            Amount in USD   object   960      0.0     500   \n",
       "9                  Remarks   object  2590    100.0      72   \n",
       "\n",
       "                                     uniqueSample  \n",
       "0                                    [1014, 2047]  \n",
       "1                        [02/02/2015, 08/07/2015]  \n",
       "2                              [Ola Cabs, Swiggy]  \n",
       "3                 [Consumer Internet, Technology]  \n",
       "4      [Online Lending Platform, Online Pharmacy]  \n",
       "5                             [Bangalore, Mumbai]  \n",
       "6  [Undisclosed Investors, Undisclosed investors]  \n",
       "7                  [Private Equity, Seed Funding]  \n",
       "8                            [1,000,000, 500,000]  \n",
       "9                            [Series A, Series B]  "
      ]
     },
     "execution_count": 3,
     "metadata": {},
     "output_type": "execute_result"
    }
   ],
   "source": [
    "ListFitur = list(df.columns)\n",
    "ListType = []\n",
    "ListNull = []\n",
    "ListPct = []\n",
    "ListUniq = []\n",
    "ListUniqs = []\n",
    "for item in ListFitur:\n",
    "    ListType.append(df[item].dtype)\n",
    "    ListNull.append(df[item].isnull().sum())\n",
    "    ListPct.append(round(df[item].isnull().sum() / len(df)) * 100)\n",
    "    ListUniq.append(df[item].nunique())\n",
    "    ListUniqs.append(list(df[item].value_counts().head(2).sort_index(ascending = True).index[0:2]))\n",
    "\n",
    "data = {\n",
    "    'dataFeatures' : ListFitur,\n",
    "    'dataType' : ListType,\n",
    "    'null' : ListNull,\n",
    "    'nullPct': ListPct,\n",
    "    'unique': ListUniq,\n",
    "    'uniqueSample' : ListUniqs\n",
    "}\n",
    "pd.DataFrame(data)"
   ]
  },
  {
   "cell_type": "code",
   "execution_count": null,
   "metadata": {},
   "outputs": [],
   "source": []
  },
  {
   "cell_type": "markdown",
   "metadata": {},
   "source": [
    "### Hapus Kolom Remarks"
   ]
  },
  {
   "cell_type": "code",
   "execution_count": 4,
   "metadata": {},
   "outputs": [],
   "source": [
    "df = df.drop('Remarks', axis = 1)"
   ]
  },
  {
   "cell_type": "code",
   "execution_count": 5,
   "metadata": {},
   "outputs": [
    {
     "name": "stdout",
     "output_type": "stream",
     "text": [
      "<class 'pandas.core.frame.DataFrame'>\n",
      "RangeIndex: 3009 entries, 0 to 3008\n",
      "Data columns (total 9 columns):\n",
      "Sr No                      3009 non-null int64\n",
      "Date ddmmyyyy              3009 non-null object\n",
      "Startup Name               3009 non-null object\n",
      "Industry Vertical          2838 non-null object\n",
      "SubVertical                2073 non-null object\n",
      "City  Location             2829 non-null object\n",
      "Investorsxe2x80x99 Name    2986 non-null object\n",
      "InvestmentnType            3006 non-null object\n",
      "Amount in USD              2049 non-null object\n",
      "dtypes: int64(1), object(8)\n",
      "memory usage: 211.6+ KB\n"
     ]
    }
   ],
   "source": [
    "df.info()"
   ]
  },
  {
   "cell_type": "markdown",
   "metadata": {},
   "source": [
    "### Hapus data yang kolom Industry Vertical dan Subverticalnya Kosong"
   ]
  },
  {
   "cell_type": "code",
   "execution_count": 6,
   "metadata": {},
   "outputs": [],
   "source": [
    "df = df.dropna(subset=['Industry Vertical', 'SubVertical'], how = 'all')"
   ]
  },
  {
   "cell_type": "code",
   "execution_count": 7,
   "metadata": {},
   "outputs": [
    {
     "name": "stdout",
     "output_type": "stream",
     "text": [
      "<class 'pandas.core.frame.DataFrame'>\n",
      "Int64Index: 2838 entries, 0 to 2837\n",
      "Data columns (total 9 columns):\n",
      "Sr No                      2838 non-null int64\n",
      "Date ddmmyyyy              2838 non-null object\n",
      "Startup Name               2838 non-null object\n",
      "Industry Vertical          2838 non-null object\n",
      "SubVertical                2073 non-null object\n",
      "City  Location             2829 non-null object\n",
      "Investorsxe2x80x99 Name    2815 non-null object\n",
      "InvestmentnType            2835 non-null object\n",
      "Amount in USD              1918 non-null object\n",
      "dtypes: int64(1), object(8)\n",
      "memory usage: 221.7+ KB\n"
     ]
    }
   ],
   "source": [
    "df.info()"
   ]
  },
  {
   "cell_type": "markdown",
   "metadata": {},
   "source": [
    "### Hapus data yang Investorsxe2x80x99 Name atau InvestmentnType kosong atau City Location nya Kosong atau amount in usd nya kosong"
   ]
  },
  {
   "cell_type": "code",
   "execution_count": 8,
   "metadata": {},
   "outputs": [],
   "source": [
    "df = df.dropna(subset=['Investorsxe2x80x99 Name'])"
   ]
  },
  {
   "cell_type": "code",
   "execution_count": 9,
   "metadata": {},
   "outputs": [
    {
     "name": "stdout",
     "output_type": "stream",
     "text": [
      "<class 'pandas.core.frame.DataFrame'>\n",
      "Int64Index: 2815 entries, 0 to 2837\n",
      "Data columns (total 9 columns):\n",
      "Sr No                      2815 non-null int64\n",
      "Date ddmmyyyy              2815 non-null object\n",
      "Startup Name               2815 non-null object\n",
      "Industry Vertical          2815 non-null object\n",
      "SubVertical                2056 non-null object\n",
      "City  Location             2806 non-null object\n",
      "Investorsxe2x80x99 Name    2815 non-null object\n",
      "InvestmentnType            2812 non-null object\n",
      "Amount in USD              1899 non-null object\n",
      "dtypes: int64(1), object(8)\n",
      "memory usage: 219.9+ KB\n"
     ]
    }
   ],
   "source": [
    "df.info()"
   ]
  },
  {
   "cell_type": "code",
   "execution_count": 10,
   "metadata": {},
   "outputs": [],
   "source": [
    "df = df.dropna(subset=['City  Location'])"
   ]
  },
  {
   "cell_type": "code",
   "execution_count": 11,
   "metadata": {},
   "outputs": [
    {
     "name": "stdout",
     "output_type": "stream",
     "text": [
      "<class 'pandas.core.frame.DataFrame'>\n",
      "Int64Index: 2806 entries, 0 to 2837\n",
      "Data columns (total 9 columns):\n",
      "Sr No                      2806 non-null int64\n",
      "Date ddmmyyyy              2806 non-null object\n",
      "Startup Name               2806 non-null object\n",
      "Industry Vertical          2806 non-null object\n",
      "SubVertical                2050 non-null object\n",
      "City  Location             2806 non-null object\n",
      "Investorsxe2x80x99 Name    2806 non-null object\n",
      "InvestmentnType            2803 non-null object\n",
      "Amount in USD              1895 non-null object\n",
      "dtypes: int64(1), object(8)\n",
      "memory usage: 219.2+ KB\n"
     ]
    }
   ],
   "source": [
    "df.info()"
   ]
  },
  {
   "cell_type": "code",
   "execution_count": 12,
   "metadata": {},
   "outputs": [],
   "source": [
    "df = df.dropna(subset=['InvestmentnType'])"
   ]
  },
  {
   "cell_type": "code",
   "execution_count": 13,
   "metadata": {},
   "outputs": [
    {
     "name": "stdout",
     "output_type": "stream",
     "text": [
      "<class 'pandas.core.frame.DataFrame'>\n",
      "Int64Index: 2803 entries, 0 to 2837\n",
      "Data columns (total 9 columns):\n",
      "Sr No                      2803 non-null int64\n",
      "Date ddmmyyyy              2803 non-null object\n",
      "Startup Name               2803 non-null object\n",
      "Industry Vertical          2803 non-null object\n",
      "SubVertical                2047 non-null object\n",
      "City  Location             2803 non-null object\n",
      "Investorsxe2x80x99 Name    2803 non-null object\n",
      "InvestmentnType            2803 non-null object\n",
      "Amount in USD              1893 non-null object\n",
      "dtypes: int64(1), object(8)\n",
      "memory usage: 219.0+ KB\n"
     ]
    }
   ],
   "source": [
    "df.info()"
   ]
  },
  {
   "cell_type": "code",
   "execution_count": 14,
   "metadata": {},
   "outputs": [],
   "source": [
    "df = df.dropna(subset=['Amount in USD'])"
   ]
  },
  {
   "cell_type": "code",
   "execution_count": 15,
   "metadata": {},
   "outputs": [
    {
     "name": "stdout",
     "output_type": "stream",
     "text": [
      "<class 'pandas.core.frame.DataFrame'>\n",
      "Int64Index: 1893 entries, 0 to 2837\n",
      "Data columns (total 9 columns):\n",
      "Sr No                      1893 non-null int64\n",
      "Date ddmmyyyy              1893 non-null object\n",
      "Startup Name               1893 non-null object\n",
      "Industry Vertical          1893 non-null object\n",
      "SubVertical                1373 non-null object\n",
      "City  Location             1893 non-null object\n",
      "Investorsxe2x80x99 Name    1893 non-null object\n",
      "InvestmentnType            1893 non-null object\n",
      "Amount in USD              1893 non-null object\n",
      "dtypes: int64(1), object(8)\n",
      "memory usage: 147.9+ KB\n"
     ]
    }
   ],
   "source": [
    "df.info()"
   ]
  },
  {
   "cell_type": "markdown",
   "metadata": {},
   "source": [
    "### Ubah Nama Kolom Investorsxe2x80x99 Name menjadi Investor"
   ]
  },
  {
   "cell_type": "code",
   "execution_count": 16,
   "metadata": {},
   "outputs": [],
   "source": [
    "df = df.rename(columns={'Investorsxe2x80x99 Name': \"Investor\"})"
   ]
  },
  {
   "cell_type": "code",
   "execution_count": 17,
   "metadata": {},
   "outputs": [
    {
     "name": "stdout",
     "output_type": "stream",
     "text": [
      "<class 'pandas.core.frame.DataFrame'>\n",
      "Int64Index: 1893 entries, 0 to 2837\n",
      "Data columns (total 9 columns):\n",
      "Sr No                1893 non-null int64\n",
      "Date ddmmyyyy        1893 non-null object\n",
      "Startup Name         1893 non-null object\n",
      "Industry Vertical    1893 non-null object\n",
      "SubVertical          1373 non-null object\n",
      "City  Location       1893 non-null object\n",
      "Investor             1893 non-null object\n",
      "InvestmentnType      1893 non-null object\n",
      "Amount in USD        1893 non-null object\n",
      "dtypes: int64(1), object(8)\n",
      "memory usage: 147.9+ KB\n"
     ]
    }
   ],
   "source": [
    "df.info()"
   ]
  },
  {
   "cell_type": "markdown",
   "metadata": {},
   "source": [
    "### Isi Kolom Subvertical yang kosong dengan kolom Industry Verticalnya"
   ]
  },
  {
   "cell_type": "code",
   "execution_count": 18,
   "metadata": {},
   "outputs": [
    {
     "data": {
      "text/plain": [
       "'Consumer Internet'"
      ]
     },
     "execution_count": 18,
     "metadata": {},
     "output_type": "execute_result"
    }
   ],
   "source": [
    "mode_V = df['Industry Vertical'].mode().values[0]\n",
    "mode_V"
   ]
  },
  {
   "cell_type": "code",
   "execution_count": 19,
   "metadata": {},
   "outputs": [],
   "source": [
    "df['SubVertical'] = df['SubVertical'].fillna(mode_V)"
   ]
  },
  {
   "cell_type": "code",
   "execution_count": 20,
   "metadata": {},
   "outputs": [
    {
     "name": "stdout",
     "output_type": "stream",
     "text": [
      "<class 'pandas.core.frame.DataFrame'>\n",
      "Int64Index: 1893 entries, 0 to 2837\n",
      "Data columns (total 9 columns):\n",
      "Sr No                1893 non-null int64\n",
      "Date ddmmyyyy        1893 non-null object\n",
      "Startup Name         1893 non-null object\n",
      "Industry Vertical    1893 non-null object\n",
      "SubVertical          1893 non-null object\n",
      "City  Location       1893 non-null object\n",
      "Investor             1893 non-null object\n",
      "InvestmentnType      1893 non-null object\n",
      "Amount in USD        1893 non-null object\n",
      "dtypes: int64(1), object(8)\n",
      "memory usage: 147.9+ KB\n"
     ]
    }
   ],
   "source": [
    "df.info()"
   ]
  },
  {
   "cell_type": "code",
   "execution_count": null,
   "metadata": {},
   "outputs": [],
   "source": []
  },
  {
   "cell_type": "markdown",
   "metadata": {},
   "source": [
    "### Hapus data dengan kolom Amount in USD Mengandung Alphabet"
   ]
  },
  {
   "cell_type": "code",
   "execution_count": 21,
   "metadata": {},
   "outputs": [],
   "source": [
    "def komaa(x):\n",
    "    return x.replace(',','')"
   ]
  },
  {
   "cell_type": "code",
   "execution_count": 22,
   "metadata": {},
   "outputs": [],
   "source": [
    "df['Amount in USD'] = df['Amount in USD'].apply(komaa)"
   ]
  },
  {
   "cell_type": "code",
   "execution_count": 23,
   "metadata": {},
   "outputs": [],
   "source": [
    "df['Undisclosed'] = df['Amount in USD'].str.isalpha() "
   ]
  },
  {
   "cell_type": "code",
   "execution_count": 24,
   "metadata": {},
   "outputs": [],
   "source": [
    "drop_index = df[df['Undisclosed'] == True].index\n",
    "df = df.drop(drop_index)\n",
    "df = df.drop('Undisclosed', axis = 1)"
   ]
  },
  {
   "cell_type": "code",
   "execution_count": 30,
   "metadata": {},
   "outputs": [],
   "source": [
    "dropLagi = df[df['Amount in USD'].str.contains('x')].index\n",
    "df = df.drop(dropLagi)"
   ]
  },
  {
   "cell_type": "code",
   "execution_count": 34,
   "metadata": {},
   "outputs": [],
   "source": [
    "df['Amount in USD'] = df['Amount in USD'].apply(lambda x : x.replace('+', ''))"
   ]
  },
  {
   "cell_type": "code",
   "execution_count": 35,
   "metadata": {},
   "outputs": [],
   "source": [
    "df['Amount in USD'] = df['Amount in USD'].apply(lambda x : x.replace('.00', ''))"
   ]
  },
  {
   "cell_type": "code",
   "execution_count": 39,
   "metadata": {},
   "outputs": [],
   "source": [
    "df['Amount in USD'] = df['Amount in USD'].astype('int64')"
   ]
  },
  {
   "cell_type": "markdown",
   "metadata": {},
   "source": [
    "### Ubah type data kolom Amount in USD Menjadi int64 , ubah dulu semua koma di data menjadi string kosong dan ubah juga selain angka menjadi string kosong"
   ]
  },
  {
   "cell_type": "code",
   "execution_count": null,
   "metadata": {},
   "outputs": [],
   "source": []
  },
  {
   "cell_type": "code",
   "execution_count": null,
   "metadata": {},
   "outputs": [],
   "source": []
  },
  {
   "cell_type": "code",
   "execution_count": null,
   "metadata": {},
   "outputs": [],
   "source": []
  },
  {
   "cell_type": "code",
   "execution_count": null,
   "metadata": {},
   "outputs": [],
   "source": []
  },
  {
   "cell_type": "markdown",
   "metadata": {},
   "source": [
    "### Cari Lima Startup Yang Mendapat Pendanaan Paling Banyak"
   ]
  },
  {
   "cell_type": "code",
   "execution_count": null,
   "metadata": {},
   "outputs": [],
   "source": []
  },
  {
   "cell_type": "markdown",
   "metadata": {},
   "source": [
    "### Cari Lima Investor Yang mengeluarkan uang paling banyak"
   ]
  },
  {
   "cell_type": "code",
   "execution_count": null,
   "metadata": {},
   "outputs": [],
   "source": []
  },
  {
   "cell_type": "markdown",
   "metadata": {},
   "source": [
    "### Cari lima industri Vertical dengan Pendanaan Paling Banyak"
   ]
  },
  {
   "cell_type": "code",
   "execution_count": null,
   "metadata": {},
   "outputs": [],
   "source": []
  }
 ],
 "metadata": {
  "kernelspec": {
   "display_name": "Python 3",
   "language": "python",
   "name": "python3"
  },
  "language_info": {
   "codemirror_mode": {
    "name": "ipython",
    "version": 3
   },
   "file_extension": ".py",
   "mimetype": "text/x-python",
   "name": "python",
   "nbconvert_exporter": "python",
   "pygments_lexer": "ipython3",
   "version": "3.7.3"
  }
 },
 "nbformat": 4,
 "nbformat_minor": 2
}
