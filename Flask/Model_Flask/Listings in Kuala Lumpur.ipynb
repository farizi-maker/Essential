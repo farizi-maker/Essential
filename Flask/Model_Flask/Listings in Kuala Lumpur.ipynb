{
 "cells": [
  {
   "cell_type": "markdown",
   "metadata": {},
   "source": [
    "## 1.  Data Extraction"
   ]
  },
  {
   "cell_type": "code",
   "execution_count": 1,
   "metadata": {},
   "outputs": [],
   "source": [
    "import pandas as pd\n",
    "import numpy as np\n",
    "import matplotlib.pyplot as plt\n",
    "import seaborn as sns\n",
    "sns.set_style('whitegrid')"
   ]
  },
  {
   "cell_type": "code",
   "execution_count": 2,
   "metadata": {},
   "outputs": [],
   "source": [
    "df = pd.read_csv('data_kaggle.xls')"
   ]
  },
  {
   "cell_type": "code",
   "execution_count": 3,
   "metadata": {},
   "outputs": [
    {
     "data": {
      "text/html": [
       "<div>\n",
       "<style scoped>\n",
       "    .dataframe tbody tr th:only-of-type {\n",
       "        vertical-align: middle;\n",
       "    }\n",
       "\n",
       "    .dataframe tbody tr th {\n",
       "        vertical-align: top;\n",
       "    }\n",
       "\n",
       "    .dataframe thead th {\n",
       "        text-align: right;\n",
       "    }\n",
       "</style>\n",
       "<table border=\"1\" class=\"dataframe\">\n",
       "  <thead>\n",
       "    <tr style=\"text-align: right;\">\n",
       "      <th></th>\n",
       "      <th>Location</th>\n",
       "      <th>Price</th>\n",
       "      <th>Rooms</th>\n",
       "      <th>Bathrooms</th>\n",
       "      <th>Car Parks</th>\n",
       "      <th>Property Type</th>\n",
       "      <th>Size</th>\n",
       "      <th>Furnishing</th>\n",
       "    </tr>\n",
       "  </thead>\n",
       "  <tbody>\n",
       "    <tr>\n",
       "      <th>0</th>\n",
       "      <td>KLCC, Kuala Lumpur</td>\n",
       "      <td>RM 1,250,000</td>\n",
       "      <td>2+1</td>\n",
       "      <td>3.0</td>\n",
       "      <td>2.0</td>\n",
       "      <td>Serviced Residence</td>\n",
       "      <td>Built-up : 1,335 sq. ft.</td>\n",
       "      <td>Fully Furnished</td>\n",
       "    </tr>\n",
       "    <tr>\n",
       "      <th>1</th>\n",
       "      <td>Damansara Heights, Kuala Lumpur</td>\n",
       "      <td>RM 6,800,000</td>\n",
       "      <td>6</td>\n",
       "      <td>7.0</td>\n",
       "      <td>NaN</td>\n",
       "      <td>Bungalow</td>\n",
       "      <td>Land area : 6900 sq. ft.</td>\n",
       "      <td>Partly Furnished</td>\n",
       "    </tr>\n",
       "    <tr>\n",
       "      <th>2</th>\n",
       "      <td>Dutamas, Kuala Lumpur</td>\n",
       "      <td>RM 1,030,000</td>\n",
       "      <td>3</td>\n",
       "      <td>4.0</td>\n",
       "      <td>2.0</td>\n",
       "      <td>Condominium (Corner)</td>\n",
       "      <td>Built-up : 1,875 sq. ft.</td>\n",
       "      <td>Partly Furnished</td>\n",
       "    </tr>\n",
       "    <tr>\n",
       "      <th>3</th>\n",
       "      <td>Cheras, Kuala Lumpur</td>\n",
       "      <td>NaN</td>\n",
       "      <td>NaN</td>\n",
       "      <td>NaN</td>\n",
       "      <td>NaN</td>\n",
       "      <td>NaN</td>\n",
       "      <td>NaN</td>\n",
       "      <td>NaN</td>\n",
       "    </tr>\n",
       "    <tr>\n",
       "      <th>4</th>\n",
       "      <td>Bukit Jalil, Kuala Lumpur</td>\n",
       "      <td>RM 900,000</td>\n",
       "      <td>4+1</td>\n",
       "      <td>3.0</td>\n",
       "      <td>2.0</td>\n",
       "      <td>Condominium (Corner)</td>\n",
       "      <td>Built-up : 1,513 sq. ft.</td>\n",
       "      <td>Partly Furnished</td>\n",
       "    </tr>\n",
       "  </tbody>\n",
       "</table>\n",
       "</div>"
      ],
      "text/plain": [
       "                          Location         Price Rooms  Bathrooms  Car Parks  \\\n",
       "0               KLCC, Kuala Lumpur  RM 1,250,000   2+1        3.0        2.0   \n",
       "1  Damansara Heights, Kuala Lumpur  RM 6,800,000     6        7.0        NaN   \n",
       "2            Dutamas, Kuala Lumpur  RM 1,030,000     3        4.0        2.0   \n",
       "3             Cheras, Kuala Lumpur           NaN   NaN        NaN        NaN   \n",
       "4        Bukit Jalil, Kuala Lumpur    RM 900,000   4+1        3.0        2.0   \n",
       "\n",
       "          Property Type                      Size        Furnishing  \n",
       "0    Serviced Residence  Built-up : 1,335 sq. ft.   Fully Furnished  \n",
       "1              Bungalow  Land area : 6900 sq. ft.  Partly Furnished  \n",
       "2  Condominium (Corner)  Built-up : 1,875 sq. ft.  Partly Furnished  \n",
       "3                   NaN                       NaN               NaN  \n",
       "4  Condominium (Corner)  Built-up : 1,513 sq. ft.  Partly Furnished  "
      ]
     },
     "execution_count": 3,
     "metadata": {},
     "output_type": "execute_result"
    }
   ],
   "source": [
    "df.head()"
   ]
  },
  {
   "cell_type": "code",
   "execution_count": 4,
   "metadata": {},
   "outputs": [
    {
     "data": {
      "text/html": [
       "<div>\n",
       "<style scoped>\n",
       "    .dataframe tbody tr th:only-of-type {\n",
       "        vertical-align: middle;\n",
       "    }\n",
       "\n",
       "    .dataframe tbody tr th {\n",
       "        vertical-align: top;\n",
       "    }\n",
       "\n",
       "    .dataframe thead th {\n",
       "        text-align: right;\n",
       "    }\n",
       "</style>\n",
       "<table border=\"1\" class=\"dataframe\">\n",
       "  <thead>\n",
       "    <tr style=\"text-align: right;\">\n",
       "      <th></th>\n",
       "      <th>Bathrooms</th>\n",
       "      <th>Car Parks</th>\n",
       "    </tr>\n",
       "  </thead>\n",
       "  <tbody>\n",
       "    <tr>\n",
       "      <th>count</th>\n",
       "      <td>51870.000000</td>\n",
       "      <td>36316.000000</td>\n",
       "    </tr>\n",
       "    <tr>\n",
       "      <th>mean</th>\n",
       "      <td>3.073434</td>\n",
       "      <td>2.007848</td>\n",
       "    </tr>\n",
       "    <tr>\n",
       "      <th>std</th>\n",
       "      <td>1.631079</td>\n",
       "      <td>1.310427</td>\n",
       "    </tr>\n",
       "    <tr>\n",
       "      <th>min</th>\n",
       "      <td>1.000000</td>\n",
       "      <td>1.000000</td>\n",
       "    </tr>\n",
       "    <tr>\n",
       "      <th>25%</th>\n",
       "      <td>2.000000</td>\n",
       "      <td>1.000000</td>\n",
       "    </tr>\n",
       "    <tr>\n",
       "      <th>50%</th>\n",
       "      <td>2.000000</td>\n",
       "      <td>2.000000</td>\n",
       "    </tr>\n",
       "    <tr>\n",
       "      <th>75%</th>\n",
       "      <td>4.000000</td>\n",
       "      <td>2.000000</td>\n",
       "    </tr>\n",
       "    <tr>\n",
       "      <th>max</th>\n",
       "      <td>20.000000</td>\n",
       "      <td>30.000000</td>\n",
       "    </tr>\n",
       "  </tbody>\n",
       "</table>\n",
       "</div>"
      ],
      "text/plain": [
       "          Bathrooms     Car Parks\n",
       "count  51870.000000  36316.000000\n",
       "mean       3.073434      2.007848\n",
       "std        1.631079      1.310427\n",
       "min        1.000000      1.000000\n",
       "25%        2.000000      1.000000\n",
       "50%        2.000000      2.000000\n",
       "75%        4.000000      2.000000\n",
       "max       20.000000     30.000000"
      ]
     },
     "execution_count": 4,
     "metadata": {},
     "output_type": "execute_result"
    }
   ],
   "source": [
    "df.describe()"
   ]
  },
  {
   "cell_type": "code",
   "execution_count": 5,
   "metadata": {},
   "outputs": [
    {
     "name": "stdout",
     "output_type": "stream",
     "text": [
      "<class 'pandas.core.frame.DataFrame'>\n",
      "RangeIndex: 53883 entries, 0 to 53882\n",
      "Data columns (total 8 columns):\n",
      "Location         53883 non-null object\n",
      "Price            53635 non-null object\n",
      "Rooms            52177 non-null object\n",
      "Bathrooms        51870 non-null float64\n",
      "Car Parks        36316 non-null float64\n",
      "Property Type    53858 non-null object\n",
      "Size             52820 non-null object\n",
      "Furnishing       46953 non-null object\n",
      "dtypes: float64(2), object(6)\n",
      "memory usage: 3.3+ MB\n"
     ]
    }
   ],
   "source": [
    "df.info()"
   ]
  },
  {
   "cell_type": "code",
   "execution_count": 6,
   "metadata": {},
   "outputs": [
    {
     "data": {
      "text/html": [
       "<div>\n",
       "<style scoped>\n",
       "    .dataframe tbody tr th:only-of-type {\n",
       "        vertical-align: middle;\n",
       "    }\n",
       "\n",
       "    .dataframe tbody tr th {\n",
       "        vertical-align: top;\n",
       "    }\n",
       "\n",
       "    .dataframe thead th {\n",
       "        text-align: right;\n",
       "    }\n",
       "</style>\n",
       "<table border=\"1\" class=\"dataframe\">\n",
       "  <thead>\n",
       "    <tr style=\"text-align: right;\">\n",
       "      <th></th>\n",
       "      <th>dataFeatures</th>\n",
       "      <th>dataType</th>\n",
       "      <th>null</th>\n",
       "      <th>nullPct</th>\n",
       "      <th>unique</th>\n",
       "      <th>uniqueSample</th>\n",
       "    </tr>\n",
       "  </thead>\n",
       "  <tbody>\n",
       "    <tr>\n",
       "      <th>0</th>\n",
       "      <td>Location</td>\n",
       "      <td>object</td>\n",
       "      <td>0</td>\n",
       "      <td>0.00</td>\n",
       "      <td>112</td>\n",
       "      <td>[Taman Tijani Ukay, Kuala Lumpur, Taman Tun Dr...</td>\n",
       "    </tr>\n",
       "    <tr>\n",
       "      <th>1</th>\n",
       "      <td>Price</td>\n",
       "      <td>object</td>\n",
       "      <td>248</td>\n",
       "      <td>0.46</td>\n",
       "      <td>4280</td>\n",
       "      <td>[RM 10,500, RM 7,421,400]</td>\n",
       "    </tr>\n",
       "    <tr>\n",
       "      <th>2</th>\n",
       "      <td>Rooms</td>\n",
       "      <td>object</td>\n",
       "      <td>1706</td>\n",
       "      <td>3.17</td>\n",
       "      <td>43</td>\n",
       "      <td>[4+1, 10+1]</td>\n",
       "    </tr>\n",
       "    <tr>\n",
       "      <th>3</th>\n",
       "      <td>Bathrooms</td>\n",
       "      <td>float64</td>\n",
       "      <td>2013</td>\n",
       "      <td>3.74</td>\n",
       "      <td>17</td>\n",
       "      <td>[1.0, 15.0]</td>\n",
       "    </tr>\n",
       "    <tr>\n",
       "      <th>4</th>\n",
       "      <td>Car Parks</td>\n",
       "      <td>float64</td>\n",
       "      <td>17567</td>\n",
       "      <td>32.60</td>\n",
       "      <td>21</td>\n",
       "      <td>[nan, 18.0]</td>\n",
       "    </tr>\n",
       "    <tr>\n",
       "      <th>5</th>\n",
       "      <td>Property Type</td>\n",
       "      <td>object</td>\n",
       "      <td>25</td>\n",
       "      <td>0.05</td>\n",
       "      <td>99</td>\n",
       "      <td>[Apartment (Intermediate), 3-sty Terrace/Link ...</td>\n",
       "    </tr>\n",
       "    <tr>\n",
       "      <th>6</th>\n",
       "      <td>Size</td>\n",
       "      <td>object</td>\n",
       "      <td>1063</td>\n",
       "      <td>1.97</td>\n",
       "      <td>6190</td>\n",
       "      <td>[Built-up : 546 sq. ft., Built-up : 2,707 sq. ...</td>\n",
       "    </tr>\n",
       "    <tr>\n",
       "      <th>7</th>\n",
       "      <td>Furnishing</td>\n",
       "      <td>object</td>\n",
       "      <td>6930</td>\n",
       "      <td>12.86</td>\n",
       "      <td>4</td>\n",
       "      <td>[Unknown, Partly Furnished]</td>\n",
       "    </tr>\n",
       "  </tbody>\n",
       "</table>\n",
       "</div>"
      ],
      "text/plain": [
       "    dataFeatures dataType   null  nullPct  unique  \\\n",
       "0       Location   object      0     0.00     112   \n",
       "1          Price   object    248     0.46    4280   \n",
       "2          Rooms   object   1706     3.17      43   \n",
       "3      Bathrooms  float64   2013     3.74      17   \n",
       "4      Car Parks  float64  17567    32.60      21   \n",
       "5  Property Type   object     25     0.05      99   \n",
       "6           Size   object   1063     1.97    6190   \n",
       "7     Furnishing   object   6930    12.86       4   \n",
       "\n",
       "                                        uniqueSample  \n",
       "0  [Taman Tijani Ukay, Kuala Lumpur, Taman Tun Dr...  \n",
       "1                          [RM 10,500, RM 7,421,400]  \n",
       "2                                        [4+1, 10+1]  \n",
       "3                                        [1.0, 15.0]  \n",
       "4                                        [nan, 18.0]  \n",
       "5  [Apartment (Intermediate), 3-sty Terrace/Link ...  \n",
       "6  [Built-up : 546 sq. ft., Built-up : 2,707 sq. ...  \n",
       "7                        [Unknown, Partly Furnished]  "
      ]
     },
     "execution_count": 6,
     "metadata": {},
     "output_type": "execute_result"
    }
   ],
   "source": [
    "listItem = []\n",
    "for col in df.columns :\n",
    "    listItem.append([col, df[col].dtype, df[col].isna().sum(), round((df[col].isna().sum()/len(df[col])) * 100,2),\n",
    "                    df[col].nunique(), list(df[col].drop_duplicates().sample(2).values)]);\n",
    "\n",
    "dfDesc = pd.DataFrame(columns=['dataFeatures', 'dataType', 'null', 'nullPct', 'unique', 'uniqueSample'],\n",
    "                     data=listItem)\n",
    "dfDesc"
   ]
  },
  {
   "cell_type": "markdown",
   "metadata": {},
   "source": [
    "## 2. Data Cleaning"
   ]
  },
  {
   "cell_type": "markdown",
   "metadata": {},
   "source": [
    "### 2.1 Handle Missing Value"
   ]
  },
  {
   "cell_type": "code",
   "execution_count": 7,
   "metadata": {},
   "outputs": [
    {
     "data": {
      "text/html": [
       "<div>\n",
       "<style scoped>\n",
       "    .dataframe tbody tr th:only-of-type {\n",
       "        vertical-align: middle;\n",
       "    }\n",
       "\n",
       "    .dataframe tbody tr th {\n",
       "        vertical-align: top;\n",
       "    }\n",
       "\n",
       "    .dataframe thead th {\n",
       "        text-align: right;\n",
       "    }\n",
       "</style>\n",
       "<table border=\"1\" class=\"dataframe\">\n",
       "  <thead>\n",
       "    <tr style=\"text-align: right;\">\n",
       "      <th></th>\n",
       "      <th>dataFeatures</th>\n",
       "      <th>dataType</th>\n",
       "      <th>null</th>\n",
       "      <th>nullPct</th>\n",
       "      <th>unique</th>\n",
       "      <th>uniqueSample</th>\n",
       "    </tr>\n",
       "  </thead>\n",
       "  <tbody>\n",
       "    <tr>\n",
       "      <th>0</th>\n",
       "      <td>Location</td>\n",
       "      <td>object</td>\n",
       "      <td>0</td>\n",
       "      <td>0.0</td>\n",
       "      <td>98</td>\n",
       "      <td>[Jinjang, Kuala Lumpur, taman connaught, Kuala...</td>\n",
       "    </tr>\n",
       "    <tr>\n",
       "      <th>1</th>\n",
       "      <td>Price</td>\n",
       "      <td>object</td>\n",
       "      <td>0</td>\n",
       "      <td>0.0</td>\n",
       "      <td>3634</td>\n",
       "      <td>[RM 11,000,000, RM 429,888]</td>\n",
       "    </tr>\n",
       "    <tr>\n",
       "      <th>2</th>\n",
       "      <td>Rooms</td>\n",
       "      <td>object</td>\n",
       "      <td>0</td>\n",
       "      <td>0.0</td>\n",
       "      <td>43</td>\n",
       "      <td>[2, 5+1]</td>\n",
       "    </tr>\n",
       "    <tr>\n",
       "      <th>3</th>\n",
       "      <td>Bathrooms</td>\n",
       "      <td>float64</td>\n",
       "      <td>0</td>\n",
       "      <td>0.0</td>\n",
       "      <td>17</td>\n",
       "      <td>[11.0, 12.0]</td>\n",
       "    </tr>\n",
       "    <tr>\n",
       "      <th>4</th>\n",
       "      <td>Property Type</td>\n",
       "      <td>object</td>\n",
       "      <td>0</td>\n",
       "      <td>0.0</td>\n",
       "      <td>94</td>\n",
       "      <td>[Serviced Residence (EndLot), 3-sty Terrace/Li...</td>\n",
       "    </tr>\n",
       "    <tr>\n",
       "      <th>5</th>\n",
       "      <td>Size</td>\n",
       "      <td>object</td>\n",
       "      <td>0</td>\n",
       "      <td>0.0</td>\n",
       "      <td>5427</td>\n",
       "      <td>[Land area : 1015 sq. ft., Built-up : 716 sq. ...</td>\n",
       "    </tr>\n",
       "    <tr>\n",
       "      <th>6</th>\n",
       "      <td>Furnishing</td>\n",
       "      <td>object</td>\n",
       "      <td>0</td>\n",
       "      <td>0.0</td>\n",
       "      <td>4</td>\n",
       "      <td>[Partly Furnished, Fully Furnished]</td>\n",
       "    </tr>\n",
       "  </tbody>\n",
       "</table>\n",
       "</div>"
      ],
      "text/plain": [
       "    dataFeatures dataType  null  nullPct  unique  \\\n",
       "0       Location   object     0      0.0      98   \n",
       "1          Price   object     0      0.0    3634   \n",
       "2          Rooms   object     0      0.0      43   \n",
       "3      Bathrooms  float64     0      0.0      17   \n",
       "4  Property Type   object     0      0.0      94   \n",
       "5           Size   object     0      0.0    5427   \n",
       "6     Furnishing   object     0      0.0       4   \n",
       "\n",
       "                                        uniqueSample  \n",
       "0  [Jinjang, Kuala Lumpur, taman connaught, Kuala...  \n",
       "1                        [RM 11,000,000, RM 429,888]  \n",
       "2                                           [2, 5+1]  \n",
       "3                                       [11.0, 12.0]  \n",
       "4  [Serviced Residence (EndLot), 3-sty Terrace/Li...  \n",
       "5  [Land area : 1015 sq. ft., Built-up : 716 sq. ...  \n",
       "6                [Partly Furnished, Fully Furnished]  "
      ]
     },
     "execution_count": 7,
     "metadata": {},
     "output_type": "execute_result"
    }
   ],
   "source": [
    "df.dropna(subset=['Price','Rooms','Bathrooms','Property Type','Size','Furnishing'],inplace=True)\n",
    "df.drop(['Car Parks'],axis=1,inplace=True)\n",
    "listItem = []\n",
    "for col in df.columns :\n",
    "    listItem.append([col, df[col].dtype, df[col].isna().sum(), round((df[col].isna().sum()/len(df[col])) * 100,2),\n",
    "                    df[col].nunique(), list(df[col].drop_duplicates().sample(2).values)]);\n",
    "\n",
    "dfDesc = pd.DataFrame(columns=['dataFeatures', 'dataType', 'null', 'nullPct', 'unique', 'uniqueSample'],\n",
    "                     data=listItem)\n",
    "dfDesc"
   ]
  },
  {
   "cell_type": "markdown",
   "metadata": {},
   "source": [
    "### 2.2 Location Colomn"
   ]
  },
  {
   "cell_type": "markdown",
   "metadata": {},
   "source": [
    "> Location Selection, only select location which has a value counts more than 100"
   ]
  },
  {
   "cell_type": "code",
   "execution_count": 8,
   "metadata": {},
   "outputs": [],
   "source": [
    "df['Location'] = df['Location'].str.lower()\n",
    "df['Location'] = df['Location'].str.replace(', kuala lumpur','')"
   ]
  },
  {
   "cell_type": "code",
   "execution_count": 9,
   "metadata": {},
   "outputs": [
    {
     "data": {
      "text/plain": [
       "97"
      ]
     },
     "execution_count": 9,
     "metadata": {},
     "output_type": "execute_result"
    }
   ],
   "source": [
    "len(sorted(df['Location'].unique()))"
   ]
  },
  {
   "cell_type": "code",
   "execution_count": 10,
   "metadata": {},
   "outputs": [],
   "source": [
    "vc_location = df['Location'].value_counts()\n",
    "list_location_to_remove = vc_location[vc_location < 100].index\n",
    "index_to_remove = df.loc[np.isin(df[\"Location\"], list_location_to_remove)].index\n",
    "df.drop(index_to_remove , inplace=True)\n",
    "df.reset_index(drop=True,inplace=True)"
   ]
  },
  {
   "cell_type": "code",
   "execution_count": 11,
   "metadata": {},
   "outputs": [
    {
     "data": {
      "text/plain": [
       "48"
      ]
     },
     "execution_count": 11,
     "metadata": {},
     "output_type": "execute_result"
    }
   ],
   "source": [
    "len(df['Location'].value_counts())"
   ]
  },
  {
   "cell_type": "markdown",
   "metadata": {},
   "source": [
    "### 2.3 Price Colomn Cleaning"
   ]
  },
  {
   "cell_type": "markdown",
   "metadata": {},
   "source": [
    "> Formatting the Price"
   ]
  },
  {
   "cell_type": "code",
   "execution_count": 12,
   "metadata": {},
   "outputs": [],
   "source": [
    "df['Price'] = df['Price'].str.replace('RM ', '')\n",
    "df['Price'] = df['Price'].str.replace(',','')\n",
    "df['Price'] = pd.to_numeric(df['Price'])"
   ]
  },
  {
   "cell_type": "markdown",
   "metadata": {},
   "source": [
    "> Handle Outlier Data With IQR Method"
   ]
  },
  {
   "cell_type": "code",
   "execution_count": 13,
   "metadata": {},
   "outputs": [],
   "source": [
    "pd.set_option('display.float_format', lambda x: '%.5f' % x)"
   ]
  },
  {
   "cell_type": "code",
   "execution_count": 14,
   "metadata": {},
   "outputs": [
    {
     "data": {
      "text/plain": [
       "count        44636.00000\n",
       "mean       1787142.44146\n",
       "std        7958177.81104\n",
       "min            308.00000\n",
       "25%         598000.00000\n",
       "50%         999999.50000\n",
       "75%        1930000.00000\n",
       "max     1600000000.00000\n",
       "Name: Price, dtype: float64"
      ]
     },
     "execution_count": 14,
     "metadata": {},
     "output_type": "execute_result"
    }
   ],
   "source": [
    "df[\"Price\"].describe()"
   ]
  },
  {
   "cell_type": "code",
   "execution_count": 15,
   "metadata": {},
   "outputs": [],
   "source": [
    "def check_outlier(dataframe, col):\n",
    "    q1 = dataframe[col].quantile(0.25)\n",
    "    q3 = dataframe[col].quantile(0.75)\n",
    "    iqr = q3-q1\n",
    "    upper_limit = q3 + (1.5 * iqr)\n",
    "    lower_limit = q1 - (1.5 * iqr)\n",
    "    return dataframe[(dataframe[col] < lower_limit) | (dataframe[col] > upper_limit)].index ,upper_limit,lower_limit\n",
    "id_to_drop,upper,lower = check_outlier(df,'Price')\n",
    "df.drop(id_to_drop,inplace=True)"
   ]
  },
  {
   "cell_type": "code",
   "execution_count": 16,
   "metadata": {},
   "outputs": [
    {
     "data": {
      "text/plain": [
       "<matplotlib.axes._subplots.AxesSubplot at 0x1a175df198>"
      ]
     },
     "execution_count": 16,
     "metadata": {},
     "output_type": "execute_result"
    },
    {
     "data": {
      "image/png": "[encoded data removed]",
      "text/plain": [
       "<Figure size 432x288 with 1 Axes>"
      ]
     },
     "metadata": {
      "needs_background": "light"
     },
     "output_type": "display_data"
    }
   ],
   "source": [
    "df['Price'].hist()"
   ]
  },
  {
   "cell_type": "markdown",
   "metadata": {},
   "source": [
    "### 2.4 Rooms Colomn Cleaning"
   ]
  },
  {
   "cell_type": "code",
   "execution_count": 17,
   "metadata": {},
   "outputs": [
    {
     "data": {
      "text/plain": [
       "0    2+1\n",
       "2      3\n",
       "3    4+1\n",
       "5      5\n",
       "6    4+1\n",
       "Name: Rooms, dtype: object"
      ]
     },
     "execution_count": 17,
     "metadata": {},
     "output_type": "execute_result"
    }
   ],
   "source": [
    "df['Rooms'][0:5]"
   ]
  },
  {
   "cell_type": "markdown",
   "metadata": {},
   "source": [
    "> Convert Room"
   ]
  },
  {
   "cell_type": "code",
   "execution_count": 18,
   "metadata": {},
   "outputs": [],
   "source": [
    "import re"
   ]
  },
  {
   "cell_type": "code",
   "execution_count": 19,
   "metadata": {},
   "outputs": [],
   "source": [
    "def convert_room(rooms):\n",
    "        if rooms.endswith(\"+\"):\n",
    "            return int(rooms[:-1])\n",
    "        if re.search(\"[0-9]+\\+[0-9]+\", rooms) is not None:\n",
    "            tmp = rooms.split(\"+\")\n",
    "            return int(tmp[0]) + int(tmp[1])\n",
    "        if rooms == \"20 Above\":\n",
    "            return 20\n",
    "        if rooms == \"Studio\":\n",
    "            return 1\n",
    "        return rooms"
   ]
  },
  {
   "cell_type": "code",
   "execution_count": 20,
   "metadata": {},
   "outputs": [],
   "source": [
    "df['Rooms'] = pd.to_numeric(df['Rooms'].apply(convert_room))"
   ]
  },
  {
   "cell_type": "code",
   "execution_count": 21,
   "metadata": {},
   "outputs": [
    {
     "data": {
      "text/plain": [
       "<matplotlib.axes._subplots.AxesSubplot at 0x1a181759e8>"
      ]
     },
     "execution_count": 21,
     "metadata": {},
     "output_type": "execute_result"
    },
    {
     "data": {
      "image/png": "[encoded data removed]",
      "text/plain": [
       "<Figure size 432x288 with 1 Axes>"
      ]
     },
     "metadata": {
      "needs_background": "light"
     },
     "output_type": "display_data"
    }
   ],
   "source": [
    "df['Rooms'].hist()"
   ]
  },
  {
   "cell_type": "markdown",
   "metadata": {},
   "source": [
    "### 2.5 Handling Bathrooms Colomn "
   ]
  },
  {
   "cell_type": "code",
   "execution_count": 22,
   "metadata": {},
   "outputs": [],
   "source": [
    "def to_int(x):\n",
    "    return int(x)"
   ]
  },
  {
   "cell_type": "code",
   "execution_count": 23,
   "metadata": {},
   "outputs": [],
   "source": [
    "df['Bathrooms'] = df['Bathrooms'].apply(to_int)"
   ]
  },
  {
   "cell_type": "code",
   "execution_count": 24,
   "metadata": {},
   "outputs": [
    {
     "data": {
      "text/plain": [
       "<matplotlib.axes._subplots.AxesSubplot at 0x1a1812ab38>"
      ]
     },
     "execution_count": 24,
     "metadata": {},
     "output_type": "execute_result"
    },
    {
     "data": {
      "image/png": "[encoded data removed]",
      "text/plain": [
       "<Figure size 432x288 with 1 Axes>"
      ]
     },
     "metadata": {
      "needs_background": "light"
     },
     "output_type": "display_data"
    }
   ],
   "source": [
    "df['Bathrooms'].hist()"
   ]
  },
  {
   "cell_type": "markdown",
   "metadata": {},
   "source": [
    "### 2.6 Handling Property Type"
   ]
  },
  {
   "cell_type": "code",
   "execution_count": 25,
   "metadata": {},
   "outputs": [],
   "source": [
    "def simplify_property_type(prop_type):\n",
    "    super_types = [\n",
    "        \"Terrace/Link House\", \"Serviced Residence\", \"Condominium\", \n",
    "        \"Semi-detached House\", \"Bungalow\", \"Apartment\", \"Townhouse\", \n",
    "        \"Flat\", \"Residential Land\", \"Cluster House\"]\n",
    "    for super_type in super_types:\n",
    "        if re.search(super_type, prop_type, flags=re.IGNORECASE) is not None:\n",
    "            return super_type\n",
    "    \n",
    "    return prop_type"
   ]
  },
  {
   "cell_type": "code",
   "execution_count": 26,
   "metadata": {},
   "outputs": [],
   "source": [
    "df['Property Type Group'] = df['Property Type'].apply(simplify_property_type)"
   ]
  },
  {
   "cell_type": "code",
   "execution_count": 27,
   "metadata": {},
   "outputs": [
    {
     "data": {
      "text/plain": [
       "Condominium            18986\n",
       "Serviced Residence     11032\n",
       "Terrace/Link House      6289\n",
       "Semi-detached House     1458\n",
       "Apartment               1324\n",
       "Bungalow                 743\n",
       "Townhouse                441\n",
       "Flat                     232\n",
       "Residential Land          13\n",
       "Cluster House              5\n",
       "Name: Property Type Group, dtype: int64"
      ]
     },
     "execution_count": 27,
     "metadata": {},
     "output_type": "execute_result"
    }
   ],
   "source": [
    "df['Property Type Group'].value_counts()"
   ]
  },
  {
   "cell_type": "markdown",
   "metadata": {},
   "source": [
    "> Deleting the data with Property type group Residental Land and Cluster House, because this group too small"
   ]
  },
  {
   "cell_type": "code",
   "execution_count": 28,
   "metadata": {},
   "outputs": [],
   "source": [
    "df.drop(df[(df['Property Type Group'] == 'Residential Land') | (df['Property Type Group'] == 'Cluster House')].index,inplace=True)"
   ]
  },
  {
   "cell_type": "markdown",
   "metadata": {},
   "source": [
    "### 2.7 Size Colomn"
   ]
  },
  {
   "cell_type": "code",
   "execution_count": 29,
   "metadata": {},
   "outputs": [],
   "source": [
    "def size_type(size):\n",
    "    size = size.split(':')\n",
    "    size_type = size[0]\n",
    "    return size_type\n",
    "\n",
    "def size_num(size):\n",
    "    size = size.split(':')\n",
    "    size_num = size[1]\n",
    "    size_num = size_num.replace(' sq. ft.','')\n",
    "    size_num = size_num.lower()\n",
    "    size_num = size_num.replace(' ','')\n",
    "    size_num = size_num.replace('sf','')\n",
    "    if 'x' in size_num:\n",
    "        num = size_num.split('x')\n",
    "        try:\n",
    "            return int(num[0]) * int(num[1])\n",
    "        except:\n",
    "            return None\n",
    "    try:\n",
    "        return int(size_num.replace(',',''))\n",
    "    except:\n",
    "        return None"
   ]
  },
  {
   "cell_type": "code",
   "execution_count": 30,
   "metadata": {},
   "outputs": [],
   "source": [
    "df['Size Type'] = df['Size'].apply(size_type)"
   ]
  },
  {
   "cell_type": "code",
   "execution_count": 31,
   "metadata": {},
   "outputs": [],
   "source": [
    "df['Size Num'] = df['Size'].apply(size_num)"
   ]
  },
  {
   "cell_type": "markdown",
   "metadata": {},
   "source": [
    "> Outlier Checking"
   ]
  },
  {
   "cell_type": "code",
   "execution_count": 32,
   "metadata": {},
   "outputs": [
    {
     "data": {
      "text/plain": [
       "count      40210.00000\n",
       "mean        3617.94332\n",
       "std       230404.95272\n",
       "min            0.00000\n",
       "25%          990.00000\n",
       "50%         1328.00000\n",
       "75%         1876.00000\n",
       "max     40232000.00000\n",
       "Name: Size Num, dtype: float64"
      ]
     },
     "execution_count": 32,
     "metadata": {},
     "output_type": "execute_result"
    }
   ],
   "source": [
    "df['Size Num'].describe()"
   ]
  },
  {
   "cell_type": "code",
   "execution_count": 33,
   "metadata": {},
   "outputs": [],
   "source": [
    "df.drop(df[df['Size Num'] < 100].index,inplace=True)\n",
    "index,upper,lower= check_outlier(df,'Size Num')\n",
    "df.drop(index,inplace=True)\n",
    "df.dropna(inplace=True)"
   ]
  },
  {
   "cell_type": "code",
   "execution_count": 34,
   "metadata": {},
   "outputs": [
    {
     "data": {
      "text/html": [
       "<div>\n",
       "<style scoped>\n",
       "    .dataframe tbody tr th:only-of-type {\n",
       "        vertical-align: middle;\n",
       "    }\n",
       "\n",
       "    .dataframe tbody tr th {\n",
       "        vertical-align: top;\n",
       "    }\n",
       "\n",
       "    .dataframe thead th {\n",
       "        text-align: right;\n",
       "    }\n",
       "</style>\n",
       "<table border=\"1\" class=\"dataframe\">\n",
       "  <thead>\n",
       "    <tr style=\"text-align: right;\">\n",
       "      <th></th>\n",
       "      <th>Location</th>\n",
       "      <th>Price</th>\n",
       "      <th>Rooms</th>\n",
       "      <th>Bathrooms</th>\n",
       "      <th>Property Type</th>\n",
       "      <th>Size</th>\n",
       "      <th>Furnishing</th>\n",
       "      <th>Property Type Group</th>\n",
       "      <th>Size Type</th>\n",
       "      <th>Size Num</th>\n",
       "    </tr>\n",
       "  </thead>\n",
       "  <tbody>\n",
       "    <tr>\n",
       "      <th>0</th>\n",
       "      <td>klcc</td>\n",
       "      <td>1250000</td>\n",
       "      <td>3</td>\n",
       "      <td>3</td>\n",
       "      <td>Serviced Residence</td>\n",
       "      <td>Built-up : 1,335 sq. ft.</td>\n",
       "      <td>Fully Furnished</td>\n",
       "      <td>Serviced Residence</td>\n",
       "      <td>Built-up</td>\n",
       "      <td>1335.00000</td>\n",
       "    </tr>\n",
       "    <tr>\n",
       "      <th>2</th>\n",
       "      <td>dutamas</td>\n",
       "      <td>1030000</td>\n",
       "      <td>3</td>\n",
       "      <td>4</td>\n",
       "      <td>Condominium (Corner)</td>\n",
       "      <td>Built-up : 1,875 sq. ft.</td>\n",
       "      <td>Partly Furnished</td>\n",
       "      <td>Condominium</td>\n",
       "      <td>Built-up</td>\n",
       "      <td>1875.00000</td>\n",
       "    </tr>\n",
       "    <tr>\n",
       "      <th>3</th>\n",
       "      <td>bukit jalil</td>\n",
       "      <td>900000</td>\n",
       "      <td>5</td>\n",
       "      <td>3</td>\n",
       "      <td>Condominium (Corner)</td>\n",
       "      <td>Built-up : 1,513 sq. ft.</td>\n",
       "      <td>Partly Furnished</td>\n",
       "      <td>Condominium</td>\n",
       "      <td>Built-up</td>\n",
       "      <td>1513.00000</td>\n",
       "    </tr>\n",
       "    <tr>\n",
       "      <th>6</th>\n",
       "      <td>taman tun dr ismail</td>\n",
       "      <td>1950000</td>\n",
       "      <td>5</td>\n",
       "      <td>4</td>\n",
       "      <td>2-sty Terrace/Link House (EndLot)</td>\n",
       "      <td>Land area : 25x75 sq. ft.</td>\n",
       "      <td>Partly Furnished</td>\n",
       "      <td>Terrace/Link House</td>\n",
       "      <td>Land area</td>\n",
       "      <td>1875.00000</td>\n",
       "    </tr>\n",
       "    <tr>\n",
       "      <th>7</th>\n",
       "      <td>sri petaling</td>\n",
       "      <td>385000</td>\n",
       "      <td>3</td>\n",
       "      <td>2</td>\n",
       "      <td>Apartment (Intermediate)</td>\n",
       "      <td>Built-up : 904 sq. ft.</td>\n",
       "      <td>Partly Furnished</td>\n",
       "      <td>Apartment</td>\n",
       "      <td>Built-up</td>\n",
       "      <td>904.00000</td>\n",
       "    </tr>\n",
       "  </tbody>\n",
       "</table>\n",
       "</div>"
      ],
      "text/plain": [
       "              Location    Price  Rooms  Bathrooms  \\\n",
       "0                 klcc  1250000      3          3   \n",
       "2              dutamas  1030000      3          4   \n",
       "3          bukit jalil   900000      5          3   \n",
       "6  taman tun dr ismail  1950000      5          4   \n",
       "7         sri petaling   385000      3          2   \n",
       "\n",
       "                       Property Type                       Size  \\\n",
       "0                 Serviced Residence   Built-up : 1,335 sq. ft.   \n",
       "2               Condominium (Corner)   Built-up : 1,875 sq. ft.   \n",
       "3               Condominium (Corner)   Built-up : 1,513 sq. ft.   \n",
       "6  2-sty Terrace/Link House (EndLot)  Land area : 25x75 sq. ft.   \n",
       "7           Apartment (Intermediate)     Built-up : 904 sq. ft.   \n",
       "\n",
       "         Furnishing Property Type Group   Size Type   Size Num  \n",
       "0   Fully Furnished  Serviced Residence   Built-up  1335.00000  \n",
       "2  Partly Furnished         Condominium   Built-up  1875.00000  \n",
       "3  Partly Furnished         Condominium   Built-up  1513.00000  \n",
       "6  Partly Furnished  Terrace/Link House  Land area  1875.00000  \n",
       "7  Partly Furnished           Apartment   Built-up   904.00000  "
      ]
     },
     "execution_count": 34,
     "metadata": {},
     "output_type": "execute_result"
    }
   ],
   "source": [
    "df.head()"
   ]
  },
  {
   "cell_type": "markdown",
   "metadata": {},
   "source": [
    "### 2.8 Furnishing Colomn Handling"
   ]
  },
  {
   "cell_type": "code",
   "execution_count": 35,
   "metadata": {},
   "outputs": [
    {
     "data": {
      "text/plain": [
       "Partly Furnished    19492\n",
       "Fully Furnished     11773\n",
       "Unfurnished          4379\n",
       "Unknown               370\n",
       "Name: Furnishing, dtype: int64"
      ]
     },
     "execution_count": 35,
     "metadata": {},
     "output_type": "execute_result"
    }
   ],
   "source": [
    "df['Furnishing'].value_counts()"
   ]
  },
  {
   "cell_type": "markdown",
   "metadata": {},
   "source": [
    "## 3.  Modelling"
   ]
  },
  {
   "cell_type": "markdown",
   "metadata": {},
   "source": [
    "### 3.1 First Modelling"
   ]
  },
  {
   "cell_type": "code",
   "execution_count": 36,
   "metadata": {},
   "outputs": [],
   "source": [
    "from sklearn.model_selection import KFold"
   ]
  },
  {
   "cell_type": "code",
   "execution_count": 37,
   "metadata": {},
   "outputs": [],
   "source": [
    "from sklearn.linear_model import LinearRegression,Lasso,Ridge\n",
    "from sklearn.tree import DecisionTreeRegressor\n",
    "from sklearn.ensemble import RandomForestRegressor,GradientBoostingRegressor\n",
    "from sklearn.metrics import mean_absolute_error,mean_squared_error,r2_score"
   ]
  },
  {
   "cell_type": "code",
   "execution_count": 38,
   "metadata": {},
   "outputs": [],
   "source": [
    "x = df[['Location','Rooms','Bathrooms','Furnishing','Property Type Group','Size Type','Size Num']]\n",
    "y = df['Price']"
   ]
  },
  {
   "cell_type": "code",
   "execution_count": 39,
   "metadata": {},
   "outputs": [],
   "source": [
    "x = pd.get_dummies(x,drop_first=True)"
   ]
  },
  {
   "cell_type": "code",
   "execution_count": 40,
   "metadata": {},
   "outputs": [],
   "source": [
    "def regression_model(n_cv):\n",
    "    score = []\n",
    "    model_name = ['Linear Regression','Lasso','Ridge','DecisionTreeRegressor','RandomForestRegressor','GradientBoostingRegressor']\n",
    "    models = [LinearRegression,Lasso,Ridge,DecisionTreeRegressor,RandomForestRegressor,GradientBoostingRegressor]\n",
    "    for item in models:\n",
    "        rmse = []\n",
    "        mae = []\n",
    "        kf = KFold(n_splits=n_cv,shuffle=True)\n",
    "        for train_index , test_index in kf.split(x,y):\n",
    "            X_train,X_test,y_train,y_test = x.iloc[train_index],x.iloc[test_index],y.iloc[train_index],y.iloc[test_index]\n",
    "            model = item()\n",
    "            model.fit(X_train,y_train)\n",
    "            prediction = model.predict(X_test)\n",
    "            mae.append(round(mean_absolute_error(y_test,prediction),2))\n",
    "            rmse.append(round(np.sqrt(mean_squared_error(y_test,prediction)),2))\n",
    "\n",
    "        temp = [\n",
    "            sum(mae)/n_cv,\n",
    "            sum(rmse)/n_cv\n",
    "        ]\n",
    "        score.append(temp)\n",
    "    return pd.DataFrame(score,columns=['MAE','RMSE'],index=model_name)"
   ]
  },
  {
   "cell_type": "code",
   "execution_count": 41,
   "metadata": {},
   "outputs": [],
   "source": [
    "# regression_model(5)"
   ]
  },
  {
   "cell_type": "markdown",
   "metadata": {},
   "source": [
    "### 3.2 Second Modelling"
   ]
  },
  {
   "cell_type": "code",
   "execution_count": 42,
   "metadata": {},
   "outputs": [],
   "source": [
    "x_y = df[['Location','Rooms','Bathrooms','Furnishing','Property Type Group','Size Type','Size Num','Price']]\n",
    "x_y = x_y[x_y['Price'] < 1200000]"
   ]
  },
  {
   "cell_type": "code",
   "execution_count": 43,
   "metadata": {},
   "outputs": [],
   "source": [
    "x_y = x_y[x_y['Price'] > 20000]"
   ]
  },
  {
   "cell_type": "code",
   "execution_count": 44,
   "metadata": {},
   "outputs": [],
   "source": [
    "x_y = x_y.drop(x_y[x_y['Furnishing'] == 'Unknown'].index)\n",
    "x = x_y.drop(['Price'],axis=1)\n",
    "y = x_y['Price']\n"
   ]
  },
  {
   "cell_type": "code",
   "execution_count": 45,
   "metadata": {},
   "outputs": [],
   "source": [
    "x =pd.get_dummies(x,drop_first=True)"
   ]
  },
  {
   "cell_type": "code",
   "execution_count": 46,
   "metadata": {},
   "outputs": [],
   "source": [
    "# regression_model(5)"
   ]
  },
  {
   "cell_type": "code",
   "execution_count": null,
   "metadata": {},
   "outputs": [],
   "source": []
  },
  {
   "cell_type": "code",
   "execution_count": 47,
   "metadata": {},
   "outputs": [],
   "source": [
    "from sklearn.model_selection import train_test_split"
   ]
  },
  {
   "cell_type": "code",
   "execution_count": 48,
   "metadata": {},
   "outputs": [],
   "source": [
    "X_train,X_test, y_train,y_test = train_test_split(x,y)"
   ]
  },
  {
   "cell_type": "code",
   "execution_count": 49,
   "metadata": {},
   "outputs": [],
   "source": [
    "model = RandomForestRegressor()"
   ]
  },
  {
   "cell_type": "code",
   "execution_count": 50,
   "metadata": {},
   "outputs": [
    {
     "name": "stderr",
     "output_type": "stream",
     "text": [
      "/Users/mac/anaconda3/lib/python3.7/site-packages/sklearn/ensemble/forest.py:245: FutureWarning: The default value of n_estimators will change from 10 in version 0.20 to 100 in 0.22.\n",
      "  \"10 in version 0.20 to 100 in 0.22.\", FutureWarning)\n"
     ]
    },
    {
     "data": {
      "text/plain": [
       "RandomForestRegressor(bootstrap=True, criterion='mse', max_depth=None,\n",
       "                      max_features='auto', max_leaf_nodes=None,\n",
       "                      min_impurity_decrease=0.0, min_impurity_split=None,\n",
       "                      min_samples_leaf=1, min_samples_split=2,\n",
       "                      min_weight_fraction_leaf=0.0, n_estimators=10,\n",
       "                      n_jobs=None, oob_score=False, random_state=None,\n",
       "                      verbose=0, warm_start=False)"
      ]
     },
     "execution_count": 50,
     "metadata": {},
     "output_type": "execute_result"
    }
   ],
   "source": [
    "model.fit(X_train,y_train)"
   ]
  },
  {
   "cell_type": "code",
   "execution_count": 51,
   "metadata": {},
   "outputs": [],
   "source": [
    "prediction = model.predict(X_test)"
   ]
  },
  {
   "cell_type": "code",
   "execution_count": 52,
   "metadata": {},
   "outputs": [
    {
     "data": {
      "text/plain": [
       "<matplotlib.axes._subplots.AxesSubplot at 0x1a19f374e0>"
      ]
     },
     "execution_count": 52,
     "metadata": {},
     "output_type": "execute_result"
    },
    {
     "data": {
      "image/png": "[encoded data removed]",
      "text/plain": [
       "<Figure size 1080x576 with 1 Axes>"
      ]
     },
     "metadata": {
      "needs_background": "light"
     },
     "output_type": "display_data"
    }
   ],
   "source": [
    "plt.figure(figsize=(15,8))\n",
    "sns.scatterplot(prediction,y_test)"
   ]
  },
  {
   "cell_type": "code",
   "execution_count": 53,
   "metadata": {},
   "outputs": [],
   "source": [
    "df_prediction = pd.DataFrame({'y_true' : y_test , 'y_pred' : prediction})\n",
    "df_prediction['Selisih'] = abs(df_prediction['y_true'] - df_prediction['y_pred'])"
   ]
  },
  {
   "cell_type": "code",
   "execution_count": 54,
   "metadata": {},
   "outputs": [
    {
     "data": {
      "text/html": [
       "<div>\n",
       "<style scoped>\n",
       "    .dataframe tbody tr th:only-of-type {\n",
       "        vertical-align: middle;\n",
       "    }\n",
       "\n",
       "    .dataframe tbody tr th {\n",
       "        vertical-align: top;\n",
       "    }\n",
       "\n",
       "    .dataframe thead th {\n",
       "        text-align: right;\n",
       "    }\n",
       "</style>\n",
       "<table border=\"1\" class=\"dataframe\">\n",
       "  <thead>\n",
       "    <tr style=\"text-align: right;\">\n",
       "      <th></th>\n",
       "      <th>y_true</th>\n",
       "      <th>y_pred</th>\n",
       "      <th>Selisih</th>\n",
       "    </tr>\n",
       "  </thead>\n",
       "  <tbody>\n",
       "    <tr>\n",
       "      <th>23741</th>\n",
       "      <td>1160000</td>\n",
       "      <td>441975.00000</td>\n",
       "      <td>718025.00000</td>\n",
       "    </tr>\n",
       "    <tr>\n",
       "      <th>29622</th>\n",
       "      <td>420000</td>\n",
       "      <td>1060320.00000</td>\n",
       "      <td>640320.00000</td>\n",
       "    </tr>\n",
       "    <tr>\n",
       "      <th>31337</th>\n",
       "      <td>1178450</td>\n",
       "      <td>549400.00000</td>\n",
       "      <td>629050.00000</td>\n",
       "    </tr>\n",
       "    <tr>\n",
       "      <th>1835</th>\n",
       "      <td>1150000</td>\n",
       "      <td>542500.00000</td>\n",
       "      <td>607500.00000</td>\n",
       "    </tr>\n",
       "    <tr>\n",
       "      <th>31987</th>\n",
       "      <td>1050000</td>\n",
       "      <td>454688.96104</td>\n",
       "      <td>595311.03896</td>\n",
       "    </tr>\n",
       "    <tr>\n",
       "      <th>723</th>\n",
       "      <td>1150000</td>\n",
       "      <td>558333.33333</td>\n",
       "      <td>591666.66667</td>\n",
       "    </tr>\n",
       "    <tr>\n",
       "      <th>33122</th>\n",
       "      <td>980000</td>\n",
       "      <td>418480.00000</td>\n",
       "      <td>561520.00000</td>\n",
       "    </tr>\n",
       "    <tr>\n",
       "      <th>14686</th>\n",
       "      <td>880000</td>\n",
       "      <td>389800.00000</td>\n",
       "      <td>490200.00000</td>\n",
       "    </tr>\n",
       "    <tr>\n",
       "      <th>32734</th>\n",
       "      <td>429000</td>\n",
       "      <td>902278.33333</td>\n",
       "      <td>473278.33333</td>\n",
       "    </tr>\n",
       "    <tr>\n",
       "      <th>15398</th>\n",
       "      <td>862260</td>\n",
       "      <td>394066.66667</td>\n",
       "      <td>468193.33333</td>\n",
       "    </tr>\n",
       "    <tr>\n",
       "      <th>30658</th>\n",
       "      <td>948800</td>\n",
       "      <td>483092.85714</td>\n",
       "      <td>465707.14286</td>\n",
       "    </tr>\n",
       "    <tr>\n",
       "      <th>7599</th>\n",
       "      <td>635000</td>\n",
       "      <td>1092992.85714</td>\n",
       "      <td>457992.85714</td>\n",
       "    </tr>\n",
       "    <tr>\n",
       "      <th>20542</th>\n",
       "      <td>880000</td>\n",
       "      <td>427500.00000</td>\n",
       "      <td>452500.00000</td>\n",
       "    </tr>\n",
       "    <tr>\n",
       "      <th>35743</th>\n",
       "      <td>990250</td>\n",
       "      <td>541925.00000</td>\n",
       "      <td>448325.00000</td>\n",
       "    </tr>\n",
       "    <tr>\n",
       "      <th>14872</th>\n",
       "      <td>828398</td>\n",
       "      <td>389689.28571</td>\n",
       "      <td>438708.71429</td>\n",
       "    </tr>\n",
       "    <tr>\n",
       "      <th>38518</th>\n",
       "      <td>180000</td>\n",
       "      <td>611775.00000</td>\n",
       "      <td>431775.00000</td>\n",
       "    </tr>\n",
       "    <tr>\n",
       "      <th>8564</th>\n",
       "      <td>1190000</td>\n",
       "      <td>764720.61404</td>\n",
       "      <td>425279.38596</td>\n",
       "    </tr>\n",
       "    <tr>\n",
       "      <th>3402</th>\n",
       "      <td>648000</td>\n",
       "      <td>1070600.00000</td>\n",
       "      <td>422600.00000</td>\n",
       "    </tr>\n",
       "    <tr>\n",
       "      <th>9498</th>\n",
       "      <td>650000</td>\n",
       "      <td>1072478.33333</td>\n",
       "      <td>422478.33333</td>\n",
       "    </tr>\n",
       "    <tr>\n",
       "      <th>17034</th>\n",
       "      <td>600000</td>\n",
       "      <td>1020488.80000</td>\n",
       "      <td>420488.80000</td>\n",
       "    </tr>\n",
       "    <tr>\n",
       "      <th>1196</th>\n",
       "      <td>1198000</td>\n",
       "      <td>777950.00000</td>\n",
       "      <td>420050.00000</td>\n",
       "    </tr>\n",
       "    <tr>\n",
       "      <th>22373</th>\n",
       "      <td>860000</td>\n",
       "      <td>441900.00000</td>\n",
       "      <td>418100.00000</td>\n",
       "    </tr>\n",
       "    <tr>\n",
       "      <th>18798</th>\n",
       "      <td>780000</td>\n",
       "      <td>364492.85714</td>\n",
       "      <td>415507.14286</td>\n",
       "    </tr>\n",
       "    <tr>\n",
       "      <th>25284</th>\n",
       "      <td>468000</td>\n",
       "      <td>882631.36667</td>\n",
       "      <td>414631.36667</td>\n",
       "    </tr>\n",
       "    <tr>\n",
       "      <th>36836</th>\n",
       "      <td>650000</td>\n",
       "      <td>1052559.13095</td>\n",
       "      <td>402559.13095</td>\n",
       "    </tr>\n",
       "    <tr>\n",
       "      <th>19278</th>\n",
       "      <td>1080000</td>\n",
       "      <td>677600.00000</td>\n",
       "      <td>402400.00000</td>\n",
       "    </tr>\n",
       "    <tr>\n",
       "      <th>33504</th>\n",
       "      <td>300000</td>\n",
       "      <td>698542.41667</td>\n",
       "      <td>398542.41667</td>\n",
       "    </tr>\n",
       "    <tr>\n",
       "      <th>27798</th>\n",
       "      <td>1150000</td>\n",
       "      <td>752600.00000</td>\n",
       "      <td>397400.00000</td>\n",
       "    </tr>\n",
       "    <tr>\n",
       "      <th>29822</th>\n",
       "      <td>1125000</td>\n",
       "      <td>730600.00000</td>\n",
       "      <td>394400.00000</td>\n",
       "    </tr>\n",
       "    <tr>\n",
       "      <th>31488</th>\n",
       "      <td>850000</td>\n",
       "      <td>456800.00000</td>\n",
       "      <td>393200.00000</td>\n",
       "    </tr>\n",
       "    <tr>\n",
       "      <th>...</th>\n",
       "      <td>...</td>\n",
       "      <td>...</td>\n",
       "      <td>...</td>\n",
       "    </tr>\n",
       "    <tr>\n",
       "      <th>11923</th>\n",
       "      <td>358000</td>\n",
       "      <td>358000.00000</td>\n",
       "      <td>0.00000</td>\n",
       "    </tr>\n",
       "    <tr>\n",
       "      <th>21406</th>\n",
       "      <td>650000</td>\n",
       "      <td>650000.00000</td>\n",
       "      <td>0.00000</td>\n",
       "    </tr>\n",
       "    <tr>\n",
       "      <th>7996</th>\n",
       "      <td>1100000</td>\n",
       "      <td>1100000.00000</td>\n",
       "      <td>0.00000</td>\n",
       "    </tr>\n",
       "    <tr>\n",
       "      <th>39566</th>\n",
       "      <td>930000</td>\n",
       "      <td>930000.00000</td>\n",
       "      <td>0.00000</td>\n",
       "    </tr>\n",
       "    <tr>\n",
       "      <th>39849</th>\n",
       "      <td>930000</td>\n",
       "      <td>930000.00000</td>\n",
       "      <td>0.00000</td>\n",
       "    </tr>\n",
       "    <tr>\n",
       "      <th>20</th>\n",
       "      <td>490000</td>\n",
       "      <td>490000.00000</td>\n",
       "      <td>0.00000</td>\n",
       "    </tr>\n",
       "    <tr>\n",
       "      <th>2966</th>\n",
       "      <td>550000</td>\n",
       "      <td>550000.00000</td>\n",
       "      <td>0.00000</td>\n",
       "    </tr>\n",
       "    <tr>\n",
       "      <th>43310</th>\n",
       "      <td>632000</td>\n",
       "      <td>632000.00000</td>\n",
       "      <td>0.00000</td>\n",
       "    </tr>\n",
       "    <tr>\n",
       "      <th>3318</th>\n",
       "      <td>880000</td>\n",
       "      <td>880000.00000</td>\n",
       "      <td>0.00000</td>\n",
       "    </tr>\n",
       "    <tr>\n",
       "      <th>5376</th>\n",
       "      <td>561100</td>\n",
       "      <td>561100.00000</td>\n",
       "      <td>0.00000</td>\n",
       "    </tr>\n",
       "    <tr>\n",
       "      <th>17365</th>\n",
       "      <td>850000</td>\n",
       "      <td>850000.00000</td>\n",
       "      <td>0.00000</td>\n",
       "    </tr>\n",
       "    <tr>\n",
       "      <th>3448</th>\n",
       "      <td>900000</td>\n",
       "      <td>900000.00000</td>\n",
       "      <td>0.00000</td>\n",
       "    </tr>\n",
       "    <tr>\n",
       "      <th>9419</th>\n",
       "      <td>561100</td>\n",
       "      <td>561100.00000</td>\n",
       "      <td>0.00000</td>\n",
       "    </tr>\n",
       "    <tr>\n",
       "      <th>13471</th>\n",
       "      <td>330000</td>\n",
       "      <td>330000.00000</td>\n",
       "      <td>0.00000</td>\n",
       "    </tr>\n",
       "    <tr>\n",
       "      <th>36934</th>\n",
       "      <td>550000</td>\n",
       "      <td>550000.00000</td>\n",
       "      <td>0.00000</td>\n",
       "    </tr>\n",
       "    <tr>\n",
       "      <th>26414</th>\n",
       "      <td>421200</td>\n",
       "      <td>421200.00000</td>\n",
       "      <td>0.00000</td>\n",
       "    </tr>\n",
       "    <tr>\n",
       "      <th>35666</th>\n",
       "      <td>850000</td>\n",
       "      <td>850000.00000</td>\n",
       "      <td>0.00000</td>\n",
       "    </tr>\n",
       "    <tr>\n",
       "      <th>44290</th>\n",
       "      <td>430000</td>\n",
       "      <td>430000.00000</td>\n",
       "      <td>0.00000</td>\n",
       "    </tr>\n",
       "    <tr>\n",
       "      <th>34996</th>\n",
       "      <td>756000</td>\n",
       "      <td>756000.00000</td>\n",
       "      <td>0.00000</td>\n",
       "    </tr>\n",
       "    <tr>\n",
       "      <th>21570</th>\n",
       "      <td>1100000</td>\n",
       "      <td>1100000.00000</td>\n",
       "      <td>0.00000</td>\n",
       "    </tr>\n",
       "    <tr>\n",
       "      <th>25753</th>\n",
       "      <td>550000</td>\n",
       "      <td>550000.00000</td>\n",
       "      <td>0.00000</td>\n",
       "    </tr>\n",
       "    <tr>\n",
       "      <th>8598</th>\n",
       "      <td>500000</td>\n",
       "      <td>500000.00000</td>\n",
       "      <td>0.00000</td>\n",
       "    </tr>\n",
       "    <tr>\n",
       "      <th>41114</th>\n",
       "      <td>880000</td>\n",
       "      <td>880000.00000</td>\n",
       "      <td>0.00000</td>\n",
       "    </tr>\n",
       "    <tr>\n",
       "      <th>36345</th>\n",
       "      <td>700000</td>\n",
       "      <td>700000.00000</td>\n",
       "      <td>0.00000</td>\n",
       "    </tr>\n",
       "    <tr>\n",
       "      <th>27632</th>\n",
       "      <td>1120000</td>\n",
       "      <td>1120000.00000</td>\n",
       "      <td>0.00000</td>\n",
       "    </tr>\n",
       "    <tr>\n",
       "      <th>4439</th>\n",
       "      <td>561100</td>\n",
       "      <td>561100.00000</td>\n",
       "      <td>0.00000</td>\n",
       "    </tr>\n",
       "    <tr>\n",
       "      <th>6224</th>\n",
       "      <td>1180000</td>\n",
       "      <td>1180000.00000</td>\n",
       "      <td>0.00000</td>\n",
       "    </tr>\n",
       "    <tr>\n",
       "      <th>9418</th>\n",
       "      <td>561100</td>\n",
       "      <td>561100.00000</td>\n",
       "      <td>0.00000</td>\n",
       "    </tr>\n",
       "    <tr>\n",
       "      <th>8870</th>\n",
       "      <td>561100</td>\n",
       "      <td>561100.00000</td>\n",
       "      <td>0.00000</td>\n",
       "    </tr>\n",
       "    <tr>\n",
       "      <th>5455</th>\n",
       "      <td>510300</td>\n",
       "      <td>510300.00000</td>\n",
       "      <td>0.00000</td>\n",
       "    </tr>\n",
       "  </tbody>\n",
       "</table>\n",
       "<p>6069 rows × 3 columns</p>\n",
       "</div>"
      ],
      "text/plain": [
       "        y_true        y_pred      Selisih\n",
       "23741  1160000  441975.00000 718025.00000\n",
       "29622   420000 1060320.00000 640320.00000\n",
       "31337  1178450  549400.00000 629050.00000\n",
       "1835   1150000  542500.00000 607500.00000\n",
       "31987  1050000  454688.96104 595311.03896\n",
       "723    1150000  558333.33333 591666.66667\n",
       "33122   980000  418480.00000 561520.00000\n",
       "14686   880000  389800.00000 490200.00000\n",
       "32734   429000  902278.33333 473278.33333\n",
       "15398   862260  394066.66667 468193.33333\n",
       "30658   948800  483092.85714 465707.14286\n",
       "7599    635000 1092992.85714 457992.85714\n",
       "20542   880000  427500.00000 452500.00000\n",
       "35743   990250  541925.00000 448325.00000\n",
       "14872   828398  389689.28571 438708.71429\n",
       "38518   180000  611775.00000 431775.00000\n",
       "8564   1190000  764720.61404 425279.38596\n",
       "3402    648000 1070600.00000 422600.00000\n",
       "9498    650000 1072478.33333 422478.33333\n",
       "17034   600000 1020488.80000 420488.80000\n",
       "1196   1198000  777950.00000 420050.00000\n",
       "22373   860000  441900.00000 418100.00000\n",
       "18798   780000  364492.85714 415507.14286\n",
       "25284   468000  882631.36667 414631.36667\n",
       "36836   650000 1052559.13095 402559.13095\n",
       "19278  1080000  677600.00000 402400.00000\n",
       "33504   300000  698542.41667 398542.41667\n",
       "27798  1150000  752600.00000 397400.00000\n",
       "29822  1125000  730600.00000 394400.00000\n",
       "31488   850000  456800.00000 393200.00000\n",
       "...        ...           ...          ...\n",
       "11923   358000  358000.00000      0.00000\n",
       "21406   650000  650000.00000      0.00000\n",
       "7996   1100000 1100000.00000      0.00000\n",
       "39566   930000  930000.00000      0.00000\n",
       "39849   930000  930000.00000      0.00000\n",
       "20      490000  490000.00000      0.00000\n",
       "2966    550000  550000.00000      0.00000\n",
       "43310   632000  632000.00000      0.00000\n",
       "3318    880000  880000.00000      0.00000\n",
       "5376    561100  561100.00000      0.00000\n",
       "17365   850000  850000.00000      0.00000\n",
       "3448    900000  900000.00000      0.00000\n",
       "9419    561100  561100.00000      0.00000\n",
       "13471   330000  330000.00000      0.00000\n",
       "36934   550000  550000.00000      0.00000\n",
       "26414   421200  421200.00000      0.00000\n",
       "35666   850000  850000.00000      0.00000\n",
       "44290   430000  430000.00000      0.00000\n",
       "34996   756000  756000.00000      0.00000\n",
       "21570  1100000 1100000.00000      0.00000\n",
       "25753   550000  550000.00000      0.00000\n",
       "8598    500000  500000.00000      0.00000\n",
       "41114   880000  880000.00000      0.00000\n",
       "36345   700000  700000.00000      0.00000\n",
       "27632  1120000 1120000.00000      0.00000\n",
       "4439    561100  561100.00000      0.00000\n",
       "6224   1180000 1180000.00000      0.00000\n",
       "9418    561100  561100.00000      0.00000\n",
       "8870    561100  561100.00000      0.00000\n",
       "5455    510300  510300.00000      0.00000\n",
       "\n",
       "[6069 rows x 3 columns]"
      ]
     },
     "execution_count": 54,
     "metadata": {},
     "output_type": "execute_result"
    }
   ],
   "source": [
    "df_prediction.sort_values(by='Selisih',ascending=False)"
   ]
  },
  {
   "cell_type": "code",
   "execution_count": 55,
   "metadata": {},
   "outputs": [
    {
     "data": {
      "text/plain": [
       "58802.57942279511"
      ]
     },
     "execution_count": 55,
     "metadata": {},
     "output_type": "execute_result"
    }
   ],
   "source": [
    "mean_absolute_error(y_test,prediction)"
   ]
  },
  {
   "cell_type": "code",
   "execution_count": 56,
   "metadata": {},
   "outputs": [
    {
     "data": {
      "text/plain": [
       "0.8522288023945881"
      ]
     },
     "execution_count": 56,
     "metadata": {},
     "output_type": "execute_result"
    }
   ],
   "source": [
    "r2_score(y_test,prediction)"
   ]
  },
  {
   "cell_type": "code",
   "execution_count": 57,
   "metadata": {},
   "outputs": [
    {
     "data": {
      "text/plain": [
       "<matplotlib.axes._subplots.AxesSubplot at 0x1a198a7160>"
      ]
     },
     "execution_count": 57,
     "metadata": {},
     "output_type": "execute_result"
    },
    {
     "data": {
      "image/png": "[encoded data removed]",
      "text/plain": [
       "<Figure size 1080x1080 with 1 Axes>"
      ]
     },
     "metadata": {
      "needs_background": "light"
     },
     "output_type": "display_data"
    }
   ],
   "source": [
    "plt.figure(figsize=(15,15))\n",
    "feature_importance = pd.Series(model.feature_importances_,index=x.columns).sort_values(ascending=False).head(10)\n",
    "sns.barplot(x=feature_importance.values , y = feature_importance.index)"
   ]
  },
  {
   "cell_type": "markdown",
   "metadata": {},
   "source": [
    "## Export Model"
   ]
  },
  {
   "cell_type": "code",
   "execution_count": 58,
   "metadata": {},
   "outputs": [],
   "source": [
    "import pickle"
   ]
  },
  {
   "cell_type": "code",
   "execution_count": 59,
   "metadata": {},
   "outputs": [],
   "source": [
    "filename = 'finalized_model.sav'\n",
    "pickle.dump(model, open(filename, 'wb'))"
   ]
  },
  {
   "cell_type": "code",
   "execution_count": 60,
   "metadata": {},
   "outputs": [
    {
     "data": {
      "text/plain": [
       "Index(['Location', 'Rooms', 'Bathrooms', 'Furnishing', 'Property Type Group',\n",
       "       'Size Type', 'Size Num', 'Price'],\n",
       "      dtype='object')"
      ]
     },
     "execution_count": 60,
     "metadata": {},
     "output_type": "execute_result"
    }
   ],
   "source": [
    "x_y.columns"
   ]
  },
  {
   "cell_type": "code",
   "execution_count": 61,
   "metadata": {},
   "outputs": [],
   "source": [
    "filename = 'x_dummies_colomn.sav'\n",
    "pickle.dump(x.columns, open(filename , 'wb'))"
   ]
  },
  {
   "cell_type": "code",
   "execution_count": 62,
   "metadata": {},
   "outputs": [],
   "source": [
    "filename = 'real_colomn.sav'\n",
    "pickle.dump(x_y.drop('Price',axis=1).columns, open(filename , 'wb'))"
   ]
  },
  {
   "cell_type": "code",
   "execution_count": 63,
   "metadata": {},
   "outputs": [
    {
     "data": {
      "text/plain": [
       "Index(['Location', 'Rooms', 'Bathrooms', 'Furnishing', 'Property Type Group',\n",
       "       'Size Type', 'Size Num', 'Price'],\n",
       "      dtype='object')"
      ]
     },
     "execution_count": 63,
     "metadata": {},
     "output_type": "execute_result"
    }
   ],
   "source": [
    "x_y.columns"
   ]
  }
 ],
 "metadata": {
  "kernelspec": {
   "display_name": "Python 3",
   "language": "python",
   "name": "python3"
  },
  "language_info": {
   "codemirror_mode": {
    "name": "ipython",
    "version": 3
   },
   "file_extension": ".py",
   "mimetype": "text/x-python",
   "name": "python",
   "nbconvert_exporter": "python",
   "pygments_lexer": "ipython3",
   "version": "3.7.3"
  }
 },
 "nbformat": 4,
 "nbformat_minor": 2
}
