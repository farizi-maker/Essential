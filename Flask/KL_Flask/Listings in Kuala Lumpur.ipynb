{
 "cells": [
  {
   "cell_type": "markdown",
   "metadata": {},
   "source": [
    "## 1.  Data Extraction"
   ]
  },
  {
   "cell_type": "code",
   "execution_count": 1,
   "metadata": {},
   "outputs": [],
   "source": [
    "import pandas as pd\n",
    "import numpy as np\n",
    "import matplotlib.pyplot as plt\n",
    "import seaborn as sns\n",
    "sns.set_style('whitegrid')"
   ]
  },
  {
   "cell_type": "code",
   "execution_count": 2,
   "metadata": {},
   "outputs": [],
   "source": [
    "df = pd.read_csv('data_kaggle.csv')"
   ]
  },
  {
   "cell_type": "code",
   "execution_count": 3,
   "metadata": {},
   "outputs": [
    {
     "data": {
      "text/html": [
       "<div>\n",
       "<style scoped>\n",
       "    .dataframe tbody tr th:only-of-type {\n",
       "        vertical-align: middle;\n",
       "    }\n",
       "\n",
       "    .dataframe tbody tr th {\n",
       "        vertical-align: top;\n",
       "    }\n",
       "\n",
       "    .dataframe thead th {\n",
       "        text-align: right;\n",
       "    }\n",
       "</style>\n",
       "<table border=\"1\" class=\"dataframe\">\n",
       "  <thead>\n",
       "    <tr style=\"text-align: right;\">\n",
       "      <th></th>\n",
       "      <th>Location</th>\n",
       "      <th>Price</th>\n",
       "      <th>Rooms</th>\n",
       "      <th>Bathrooms</th>\n",
       "      <th>Car Parks</th>\n",
       "      <th>Property Type</th>\n",
       "      <th>Size</th>\n",
       "      <th>Furnishing</th>\n",
       "    </tr>\n",
       "  </thead>\n",
       "  <tbody>\n",
       "    <tr>\n",
       "      <th>0</th>\n",
       "      <td>KLCC, Kuala Lumpur</td>\n",
       "      <td>RM 1,250,000</td>\n",
       "      <td>2+1</td>\n",
       "      <td>3.0</td>\n",
       "      <td>2.0</td>\n",
       "      <td>Serviced Residence</td>\n",
       "      <td>Built-up : 1,335 sq. ft.</td>\n",
       "      <td>Fully Furnished</td>\n",
       "    </tr>\n",
       "    <tr>\n",
       "      <th>1</th>\n",
       "      <td>Damansara Heights, Kuala Lumpur</td>\n",
       "      <td>RM 6,800,000</td>\n",
       "      <td>6</td>\n",
       "      <td>7.0</td>\n",
       "      <td>NaN</td>\n",
       "      <td>Bungalow</td>\n",
       "      <td>Land area : 6900 sq. ft.</td>\n",
       "      <td>Partly Furnished</td>\n",
       "    </tr>\n",
       "    <tr>\n",
       "      <th>2</th>\n",
       "      <td>Dutamas, Kuala Lumpur</td>\n",
       "      <td>RM 1,030,000</td>\n",
       "      <td>3</td>\n",
       "      <td>4.0</td>\n",
       "      <td>2.0</td>\n",
       "      <td>Condominium (Corner)</td>\n",
       "      <td>Built-up : 1,875 sq. ft.</td>\n",
       "      <td>Partly Furnished</td>\n",
       "    </tr>\n",
       "    <tr>\n",
       "      <th>3</th>\n",
       "      <td>Cheras, Kuala Lumpur</td>\n",
       "      <td>NaN</td>\n",
       "      <td>NaN</td>\n",
       "      <td>NaN</td>\n",
       "      <td>NaN</td>\n",
       "      <td>NaN</td>\n",
       "      <td>NaN</td>\n",
       "      <td>NaN</td>\n",
       "    </tr>\n",
       "    <tr>\n",
       "      <th>4</th>\n",
       "      <td>Bukit Jalil, Kuala Lumpur</td>\n",
       "      <td>RM 900,000</td>\n",
       "      <td>4+1</td>\n",
       "      <td>3.0</td>\n",
       "      <td>2.0</td>\n",
       "      <td>Condominium (Corner)</td>\n",
       "      <td>Built-up : 1,513 sq. ft.</td>\n",
       "      <td>Partly Furnished</td>\n",
       "    </tr>\n",
       "  </tbody>\n",
       "</table>\n",
       "</div>"
      ],
      "text/plain": [
       "                          Location         Price Rooms  Bathrooms  Car Parks  \\\n",
       "0               KLCC, Kuala Lumpur  RM 1,250,000   2+1        3.0        2.0   \n",
       "1  Damansara Heights, Kuala Lumpur  RM 6,800,000     6        7.0        NaN   \n",
       "2            Dutamas, Kuala Lumpur  RM 1,030,000     3        4.0        2.0   \n",
       "3             Cheras, Kuala Lumpur           NaN   NaN        NaN        NaN   \n",
       "4        Bukit Jalil, Kuala Lumpur    RM 900,000   4+1        3.0        2.0   \n",
       "\n",
       "          Property Type                      Size        Furnishing  \n",
       "0    Serviced Residence  Built-up : 1,335 sq. ft.   Fully Furnished  \n",
       "1              Bungalow  Land area : 6900 sq. ft.  Partly Furnished  \n",
       "2  Condominium (Corner)  Built-up : 1,875 sq. ft.  Partly Furnished  \n",
       "3                   NaN                       NaN               NaN  \n",
       "4  Condominium (Corner)  Built-up : 1,513 sq. ft.  Partly Furnished  "
      ]
     },
     "execution_count": 3,
     "metadata": {},
     "output_type": "execute_result"
    }
   ],
   "source": [
    "df.head()"
   ]
  },
  {
   "cell_type": "code",
   "execution_count": 4,
   "metadata": {},
   "outputs": [
    {
     "data": {
      "text/html": [
       "<div>\n",
       "<style scoped>\n",
       "    .dataframe tbody tr th:only-of-type {\n",
       "        vertical-align: middle;\n",
       "    }\n",
       "\n",
       "    .dataframe tbody tr th {\n",
       "        vertical-align: top;\n",
       "    }\n",
       "\n",
       "    .dataframe thead th {\n",
       "        text-align: right;\n",
       "    }\n",
       "</style>\n",
       "<table border=\"1\" class=\"dataframe\">\n",
       "  <thead>\n",
       "    <tr style=\"text-align: right;\">\n",
       "      <th></th>\n",
       "      <th>Bathrooms</th>\n",
       "      <th>Car Parks</th>\n",
       "    </tr>\n",
       "  </thead>\n",
       "  <tbody>\n",
       "    <tr>\n",
       "      <th>count</th>\n",
       "      <td>51870.000000</td>\n",
       "      <td>36316.000000</td>\n",
       "    </tr>\n",
       "    <tr>\n",
       "      <th>mean</th>\n",
       "      <td>3.073434</td>\n",
       "      <td>2.007848</td>\n",
       "    </tr>\n",
       "    <tr>\n",
       "      <th>std</th>\n",
       "      <td>1.631079</td>\n",
       "      <td>1.310427</td>\n",
       "    </tr>\n",
       "    <tr>\n",
       "      <th>min</th>\n",
       "      <td>1.000000</td>\n",
       "      <td>1.000000</td>\n",
       "    </tr>\n",
       "    <tr>\n",
       "      <th>25%</th>\n",
       "      <td>2.000000</td>\n",
       "      <td>1.000000</td>\n",
       "    </tr>\n",
       "    <tr>\n",
       "      <th>50%</th>\n",
       "      <td>2.000000</td>\n",
       "      <td>2.000000</td>\n",
       "    </tr>\n",
       "    <tr>\n",
       "      <th>75%</th>\n",
       "      <td>4.000000</td>\n",
       "      <td>2.000000</td>\n",
       "    </tr>\n",
       "    <tr>\n",
       "      <th>max</th>\n",
       "      <td>20.000000</td>\n",
       "      <td>30.000000</td>\n",
       "    </tr>\n",
       "  </tbody>\n",
       "</table>\n",
       "</div>"
      ],
      "text/plain": [
       "          Bathrooms     Car Parks\n",
       "count  51870.000000  36316.000000\n",
       "mean       3.073434      2.007848\n",
       "std        1.631079      1.310427\n",
       "min        1.000000      1.000000\n",
       "25%        2.000000      1.000000\n",
       "50%        2.000000      2.000000\n",
       "75%        4.000000      2.000000\n",
       "max       20.000000     30.000000"
      ]
     },
     "execution_count": 4,
     "metadata": {},
     "output_type": "execute_result"
    }
   ],
   "source": [
    "df.describe()"
   ]
  },
  {
   "cell_type": "code",
   "execution_count": 5,
   "metadata": {},
   "outputs": [
    {
     "name": "stdout",
     "output_type": "stream",
     "text": [
      "<class 'pandas.core.frame.DataFrame'>\n",
      "RangeIndex: 53883 entries, 0 to 53882\n",
      "Data columns (total 8 columns):\n",
      "Location         53883 non-null object\n",
      "Price            53635 non-null object\n",
      "Rooms            52177 non-null object\n",
      "Bathrooms        51870 non-null float64\n",
      "Car Parks        36316 non-null float64\n",
      "Property Type    53858 non-null object\n",
      "Size             52820 non-null object\n",
      "Furnishing       46953 non-null object\n",
      "dtypes: float64(2), object(6)\n",
      "memory usage: 3.3+ MB\n"
     ]
    }
   ],
   "source": [
    "df.info()"
   ]
  },
  {
   "cell_type": "code",
   "execution_count": 6,
   "metadata": {},
   "outputs": [
    {
     "data": {
      "text/html": [
       "<div>\n",
       "<style scoped>\n",
       "    .dataframe tbody tr th:only-of-type {\n",
       "        vertical-align: middle;\n",
       "    }\n",
       "\n",
       "    .dataframe tbody tr th {\n",
       "        vertical-align: top;\n",
       "    }\n",
       "\n",
       "    .dataframe thead th {\n",
       "        text-align: right;\n",
       "    }\n",
       "</style>\n",
       "<table border=\"1\" class=\"dataframe\">\n",
       "  <thead>\n",
       "    <tr style=\"text-align: right;\">\n",
       "      <th></th>\n",
       "      <th>dataFeatures</th>\n",
       "      <th>dataType</th>\n",
       "      <th>null</th>\n",
       "      <th>nullPct</th>\n",
       "      <th>unique</th>\n",
       "      <th>uniqueSample</th>\n",
       "    </tr>\n",
       "  </thead>\n",
       "  <tbody>\n",
       "    <tr>\n",
       "      <th>0</th>\n",
       "      <td>Location</td>\n",
       "      <td>object</td>\n",
       "      <td>0</td>\n",
       "      <td>0.00</td>\n",
       "      <td>112</td>\n",
       "      <td>[duta Nusantara, Kuala Lumpur, Taming Jaya, Ku...</td>\n",
       "    </tr>\n",
       "    <tr>\n",
       "      <th>1</th>\n",
       "      <td>Price</td>\n",
       "      <td>object</td>\n",
       "      <td>248</td>\n",
       "      <td>0.46</td>\n",
       "      <td>4280</td>\n",
       "      <td>[RM 720,900, RM 2,357,250]</td>\n",
       "    </tr>\n",
       "    <tr>\n",
       "      <th>2</th>\n",
       "      <td>Rooms</td>\n",
       "      <td>object</td>\n",
       "      <td>1706</td>\n",
       "      <td>3.17</td>\n",
       "      <td>43</td>\n",
       "      <td>[9+1, 20 Above]</td>\n",
       "    </tr>\n",
       "    <tr>\n",
       "      <th>3</th>\n",
       "      <td>Bathrooms</td>\n",
       "      <td>float64</td>\n",
       "      <td>2013</td>\n",
       "      <td>3.74</td>\n",
       "      <td>17</td>\n",
       "      <td>[1.0, 15.0]</td>\n",
       "    </tr>\n",
       "    <tr>\n",
       "      <th>4</th>\n",
       "      <td>Car Parks</td>\n",
       "      <td>float64</td>\n",
       "      <td>17567</td>\n",
       "      <td>32.60</td>\n",
       "      <td>21</td>\n",
       "      <td>[3.0, 2.0]</td>\n",
       "    </tr>\n",
       "    <tr>\n",
       "      <th>5</th>\n",
       "      <td>Property Type</td>\n",
       "      <td>object</td>\n",
       "      <td>25</td>\n",
       "      <td>0.05</td>\n",
       "      <td>99</td>\n",
       "      <td>[Townhouse (EndLot), Condominium (Studio)]</td>\n",
       "    </tr>\n",
       "    <tr>\n",
       "      <th>6</th>\n",
       "      <td>Size</td>\n",
       "      <td>object</td>\n",
       "      <td>1063</td>\n",
       "      <td>1.97</td>\n",
       "      <td>6190</td>\n",
       "      <td>[Built-up : 697 sq. ft., Land area : 32*75 sq....</td>\n",
       "    </tr>\n",
       "    <tr>\n",
       "      <th>7</th>\n",
       "      <td>Furnishing</td>\n",
       "      <td>object</td>\n",
       "      <td>6930</td>\n",
       "      <td>12.86</td>\n",
       "      <td>4</td>\n",
       "      <td>[Unfurnished, nan]</td>\n",
       "    </tr>\n",
       "  </tbody>\n",
       "</table>\n",
       "</div>"
      ],
      "text/plain": [
       "    dataFeatures dataType   null  nullPct  unique  \\\n",
       "0       Location   object      0     0.00     112   \n",
       "1          Price   object    248     0.46    4280   \n",
       "2          Rooms   object   1706     3.17      43   \n",
       "3      Bathrooms  float64   2013     3.74      17   \n",
       "4      Car Parks  float64  17567    32.60      21   \n",
       "5  Property Type   object     25     0.05      99   \n",
       "6           Size   object   1063     1.97    6190   \n",
       "7     Furnishing   object   6930    12.86       4   \n",
       "\n",
       "                                        uniqueSample  \n",
       "0  [duta Nusantara, Kuala Lumpur, Taming Jaya, Ku...  \n",
       "1                         [RM 720,900, RM 2,357,250]  \n",
       "2                                    [9+1, 20 Above]  \n",
       "3                                        [1.0, 15.0]  \n",
       "4                                         [3.0, 2.0]  \n",
       "5         [Townhouse (EndLot), Condominium (Studio)]  \n",
       "6  [Built-up : 697 sq. ft., Land area : 32*75 sq....  \n",
       "7                                 [Unfurnished, nan]  "
      ]
     },
     "execution_count": 6,
     "metadata": {},
     "output_type": "execute_result"
    }
   ],
   "source": [
    "listItem = []\n",
    "for col in df.columns :\n",
    "    listItem.append([col, df[col].dtype, df[col].isna().sum(), round((df[col].isna().sum()/len(df[col])) * 100,2),\n",
    "                    df[col].nunique(), list(df[col].drop_duplicates().sample(2).values)]);\n",
    "\n",
    "dfDesc = pd.DataFrame(columns=['dataFeatures', 'dataType', 'null', 'nullPct', 'unique', 'uniqueSample'],\n",
    "                     data=listItem)\n",
    "dfDesc"
   ]
  },
  {
   "cell_type": "markdown",
   "metadata": {},
   "source": [
    "## 2. Data Cleaning"
   ]
  },
  {
   "cell_type": "markdown",
   "metadata": {},
   "source": [
    "### 2.1 Handle Missing Value"
   ]
  },
  {
   "cell_type": "code",
   "execution_count": 7,
   "metadata": {},
   "outputs": [
    {
     "data": {
      "text/html": [
       "<div>\n",
       "<style scoped>\n",
       "    .dataframe tbody tr th:only-of-type {\n",
       "        vertical-align: middle;\n",
       "    }\n",
       "\n",
       "    .dataframe tbody tr th {\n",
       "        vertical-align: top;\n",
       "    }\n",
       "\n",
       "    .dataframe thead th {\n",
       "        text-align: right;\n",
       "    }\n",
       "</style>\n",
       "<table border=\"1\" class=\"dataframe\">\n",
       "  <thead>\n",
       "    <tr style=\"text-align: right;\">\n",
       "      <th></th>\n",
       "      <th>dataFeatures</th>\n",
       "      <th>dataType</th>\n",
       "      <th>null</th>\n",
       "      <th>nullPct</th>\n",
       "      <th>unique</th>\n",
       "      <th>uniqueSample</th>\n",
       "    </tr>\n",
       "  </thead>\n",
       "  <tbody>\n",
       "    <tr>\n",
       "      <th>0</th>\n",
       "      <td>Location</td>\n",
       "      <td>object</td>\n",
       "      <td>0</td>\n",
       "      <td>0.0</td>\n",
       "      <td>98</td>\n",
       "      <td>[Taman Yarl, Kuala Lumpur, Sri Hartamas, Kuala...</td>\n",
       "    </tr>\n",
       "    <tr>\n",
       "      <th>1</th>\n",
       "      <td>Price</td>\n",
       "      <td>object</td>\n",
       "      <td>0</td>\n",
       "      <td>0.0</td>\n",
       "      <td>3634</td>\n",
       "      <td>[RM 2,688,800, RM 2,128,950]</td>\n",
       "    </tr>\n",
       "    <tr>\n",
       "      <th>2</th>\n",
       "      <td>Rooms</td>\n",
       "      <td>object</td>\n",
       "      <td>0</td>\n",
       "      <td>0.0</td>\n",
       "      <td>43</td>\n",
       "      <td>[10+1, 11]</td>\n",
       "    </tr>\n",
       "    <tr>\n",
       "      <th>3</th>\n",
       "      <td>Bathrooms</td>\n",
       "      <td>float64</td>\n",
       "      <td>0</td>\n",
       "      <td>0.0</td>\n",
       "      <td>17</td>\n",
       "      <td>[3.0, 10.0]</td>\n",
       "    </tr>\n",
       "    <tr>\n",
       "      <th>4</th>\n",
       "      <td>Property Type</td>\n",
       "      <td>object</td>\n",
       "      <td>0</td>\n",
       "      <td>0.0</td>\n",
       "      <td>94</td>\n",
       "      <td>[Townhouse (Intermediate), Bungalow Land]</td>\n",
       "    </tr>\n",
       "    <tr>\n",
       "      <th>5</th>\n",
       "      <td>Size</td>\n",
       "      <td>object</td>\n",
       "      <td>0</td>\n",
       "      <td>0.0</td>\n",
       "      <td>5427</td>\n",
       "      <td>[Built-up : 2,746 sq. ft., Land area : 14800 s...</td>\n",
       "    </tr>\n",
       "    <tr>\n",
       "      <th>6</th>\n",
       "      <td>Furnishing</td>\n",
       "      <td>object</td>\n",
       "      <td>0</td>\n",
       "      <td>0.0</td>\n",
       "      <td>4</td>\n",
       "      <td>[Unfurnished, Partly Furnished]</td>\n",
       "    </tr>\n",
       "  </tbody>\n",
       "</table>\n",
       "</div>"
      ],
      "text/plain": [
       "    dataFeatures dataType  null  nullPct  unique  \\\n",
       "0       Location   object     0      0.0      98   \n",
       "1          Price   object     0      0.0    3634   \n",
       "2          Rooms   object     0      0.0      43   \n",
       "3      Bathrooms  float64     0      0.0      17   \n",
       "4  Property Type   object     0      0.0      94   \n",
       "5           Size   object     0      0.0    5427   \n",
       "6     Furnishing   object     0      0.0       4   \n",
       "\n",
       "                                        uniqueSample  \n",
       "0  [Taman Yarl, Kuala Lumpur, Sri Hartamas, Kuala...  \n",
       "1                       [RM 2,688,800, RM 2,128,950]  \n",
       "2                                         [10+1, 11]  \n",
       "3                                        [3.0, 10.0]  \n",
       "4          [Townhouse (Intermediate), Bungalow Land]  \n",
       "5  [Built-up : 2,746 sq. ft., Land area : 14800 s...  \n",
       "6                    [Unfurnished, Partly Furnished]  "
      ]
     },
     "execution_count": 7,
     "metadata": {},
     "output_type": "execute_result"
    }
   ],
   "source": [
    "df.dropna(subset=['Price','Rooms','Bathrooms','Property Type','Size','Furnishing'],inplace=True)\n",
    "df.drop(['Car Parks'],axis=1,inplace=True)\n",
    "listItem = []\n",
    "for col in df.columns :\n",
    "    listItem.append([col, df[col].dtype, df[col].isna().sum(), round((df[col].isna().sum()/len(df[col])) * 100,2),\n",
    "                    df[col].nunique(), list(df[col].drop_duplicates().sample(2).values)]);\n",
    "\n",
    "dfDesc = pd.DataFrame(columns=['dataFeatures', 'dataType', 'null', 'nullPct', 'unique', 'uniqueSample'],\n",
    "                     data=listItem)\n",
    "dfDesc"
   ]
  },
  {
   "cell_type": "markdown",
   "metadata": {},
   "source": [
    "### 2.2 Location Colomn"
   ]
  },
  {
   "cell_type": "markdown",
   "metadata": {},
   "source": [
    "> Location Selection, only select location which has a value counts more than 100"
   ]
  },
  {
   "cell_type": "code",
   "execution_count": 8,
   "metadata": {},
   "outputs": [],
   "source": [
    "df['Location'] = df['Location'].str.lower()\n",
    "df['Location'] = df['Location'].str.replace(', kuala lumpur','')"
   ]
  },
  {
   "cell_type": "code",
   "execution_count": 9,
   "metadata": {},
   "outputs": [
    {
     "data": {
      "text/plain": [
       "97"
      ]
     },
     "execution_count": 9,
     "metadata": {},
     "output_type": "execute_result"
    }
   ],
   "source": [
    "len(sorted(df['Location'].unique()))"
   ]
  },
  {
   "cell_type": "code",
   "execution_count": 10,
   "metadata": {},
   "outputs": [],
   "source": [
    "vc_location = df['Location'].value_counts()\n",
    "list_location_to_remove = vc_location[vc_location < 100].index\n",
    "index_to_remove = df.loc[np.isin(df[\"Location\"], list_location_to_remove)].index\n",
    "df.drop(index_to_remove , inplace=True)\n",
    "df.reset_index(drop=True,inplace=True)"
   ]
  },
  {
   "cell_type": "code",
   "execution_count": 11,
   "metadata": {},
   "outputs": [
    {
     "data": {
      "text/plain": [
       "48"
      ]
     },
     "execution_count": 11,
     "metadata": {},
     "output_type": "execute_result"
    }
   ],
   "source": [
    "len(df['Location'].value_counts())"
   ]
  },
  {
   "cell_type": "markdown",
   "metadata": {},
   "source": [
    "### 2.3 Price Colomn Cleaning"
   ]
  },
  {
   "cell_type": "markdown",
   "metadata": {},
   "source": [
    "> Formatting the Price"
   ]
  },
  {
   "cell_type": "code",
   "execution_count": 12,
   "metadata": {},
   "outputs": [],
   "source": [
    "df['Price'] = df['Price'].str.replace('RM ', '')\n",
    "df['Price'] = df['Price'].str.replace(',','')\n",
    "df['Price'] = pd.to_numeric(df['Price'])"
   ]
  },
  {
   "cell_type": "markdown",
   "metadata": {},
   "source": [
    "> Handle Outlier Data With IQR Method"
   ]
  },
  {
   "cell_type": "code",
   "execution_count": 13,
   "metadata": {},
   "outputs": [],
   "source": [
    "pd.set_option('display.float_format', lambda x: '%.5f' % x)"
   ]
  },
  {
   "cell_type": "code",
   "execution_count": 14,
   "metadata": {},
   "outputs": [
    {
     "data": {
      "text/plain": [
       "count        44636.00000\n",
       "mean       1787142.44146\n",
       "std        7958177.81104\n",
       "min            308.00000\n",
       "25%         598000.00000\n",
       "50%         999999.50000\n",
       "75%        1930000.00000\n",
       "max     1600000000.00000\n",
       "Name: Price, dtype: float64"
      ]
     },
     "execution_count": 14,
     "metadata": {},
     "output_type": "execute_result"
    }
   ],
   "source": [
    "df[\"Price\"].describe()"
   ]
  },
  {
   "cell_type": "code",
   "execution_count": 15,
   "metadata": {},
   "outputs": [],
   "source": [
    "def check_outlier(dataframe, col):\n",
    "    q1 = dataframe[col].quantile(0.25)\n",
    "    q3 = dataframe[col].quantile(0.75)\n",
    "    iqr = q3-q1\n",
    "    upper_limit = q3 + (1.5 * iqr)\n",
    "    lower_limit = q1 - (1.5 * iqr)\n",
    "    return dataframe[(dataframe[col] < lower_limit) | (dataframe[col] > upper_limit)].index ,upper_limit,lower_limit\n",
    "id_to_drop,upper,lower = check_outlier(df,'Price')\n",
    "df.drop(id_to_drop,inplace=True)"
   ]
  },
  {
   "cell_type": "code",
   "execution_count": 16,
   "metadata": {},
   "outputs": [
    {
     "data": {
      "text/plain": [
       "<matplotlib.axes._subplots.AxesSubplot at 0x1a1ddc4438>"
      ]
     },
     "execution_count": 16,
     "metadata": {},
     "output_type": "execute_result"
    },
    {
     "data": {
      "image/png": "[encoded data removed]",
      "text/plain": [
       "<Figure size 432x288 with 1 Axes>"
      ]
     },
     "metadata": {
      "needs_background": "light"
     },
     "output_type": "display_data"
    }
   ],
   "source": [
    "df['Price'].hist()"
   ]
  },
  {
   "cell_type": "markdown",
   "metadata": {},
   "source": [
    "### 2.4 Rooms Colomn Cleaning"
   ]
  },
  {
   "cell_type": "code",
   "execution_count": 17,
   "metadata": {},
   "outputs": [
    {
     "data": {
      "text/plain": [
       "0    2+1\n",
       "2      3\n",
       "3    4+1\n",
       "5      5\n",
       "6    4+1\n",
       "Name: Rooms, dtype: object"
      ]
     },
     "execution_count": 17,
     "metadata": {},
     "output_type": "execute_result"
    }
   ],
   "source": [
    "df['Rooms'][0:5]"
   ]
  },
  {
   "cell_type": "markdown",
   "metadata": {},
   "source": [
    "> Convert Room"
   ]
  },
  {
   "cell_type": "code",
   "execution_count": 18,
   "metadata": {},
   "outputs": [],
   "source": [
    "import re"
   ]
  },
  {
   "cell_type": "code",
   "execution_count": 19,
   "metadata": {},
   "outputs": [],
   "source": [
    "def convert_room(rooms):\n",
    "        if rooms.endswith(\"+\"):\n",
    "            return int(rooms[:-1])\n",
    "        if re.search(\"[0-9]+\\+[0-9]+\", rooms) is not None:\n",
    "            tmp = rooms.split(\"+\")\n",
    "            return int(tmp[0]) + int(tmp[1])\n",
    "        if rooms == \"20 Above\":\n",
    "            return 20\n",
    "        if rooms == \"Studio\":\n",
    "            return 1\n",
    "        return rooms"
   ]
  },
  {
   "cell_type": "code",
   "execution_count": 20,
   "metadata": {},
   "outputs": [],
   "source": [
    "df['Rooms'] = pd.to_numeric(df['Rooms'].apply(convert_room))"
   ]
  },
  {
   "cell_type": "code",
   "execution_count": 21,
   "metadata": {},
   "outputs": [
    {
     "data": {
      "text/plain": [
       "<matplotlib.axes._subplots.AxesSubplot at 0x1a1d4ccc18>"
      ]
     },
     "execution_count": 21,
     "metadata": {},
     "output_type": "execute_result"
    },
    {
     "data": {
      "image/png": "[encoded data removed]",
      "text/plain": [
       "<Figure size 432x288 with 1 Axes>"
      ]
     },
     "metadata": {
      "needs_background": "light"
     },
     "output_type": "display_data"
    }
   ],
   "source": [
    "df['Rooms'].hist()"
   ]
  },
  {
   "cell_type": "markdown",
   "metadata": {},
   "source": [
    "### 2.5 Handling Bathrooms Colomn "
   ]
  },
  {
   "cell_type": "code",
   "execution_count": 22,
   "metadata": {},
   "outputs": [],
   "source": [
    "def to_int(x):\n",
    "    return int(x)"
   ]
  },
  {
   "cell_type": "code",
   "execution_count": 23,
   "metadata": {},
   "outputs": [],
   "source": [
    "df['Bathrooms'] = df['Bathrooms'].apply(to_int)"
   ]
  },
  {
   "cell_type": "code",
   "execution_count": 24,
   "metadata": {},
   "outputs": [
    {
     "data": {
      "text/plain": [
       "<matplotlib.axes._subplots.AxesSubplot at 0x1a1d473048>"
      ]
     },
     "execution_count": 24,
     "metadata": {},
     "output_type": "execute_result"
    },
    {
     "data": {
      "image/png": "[encoded data removed]",
      "text/plain": [
       "<Figure size 432x288 with 1 Axes>"
      ]
     },
     "metadata": {
      "needs_background": "light"
     },
     "output_type": "display_data"
    }
   ],
   "source": [
    "df['Bathrooms'].hist()"
   ]
  },
  {
   "cell_type": "markdown",
   "metadata": {},
   "source": [
    "### 2.6 Handling Property Type"
   ]
  },
  {
   "cell_type": "code",
   "execution_count": 25,
   "metadata": {},
   "outputs": [],
   "source": [
    "def simplify_property_type(prop_type):\n",
    "    super_types = [\n",
    "        \"Terrace/Link House\", \"Serviced Residence\", \"Condominium\", \n",
    "        \"Semi-detached House\", \"Bungalow\", \"Apartment\", \"Townhouse\", \n",
    "        \"Flat\", \"Residential Land\", \"Cluster House\"]\n",
    "    for super_type in super_types:\n",
    "        if re.search(super_type, prop_type, flags=re.IGNORECASE) is not None:\n",
    "            return super_type\n",
    "    \n",
    "    return prop_type"
   ]
  },
  {
   "cell_type": "code",
   "execution_count": 26,
   "metadata": {},
   "outputs": [],
   "source": [
    "df['Property Type Group'] = df['Property Type'].apply(simplify_property_type)"
   ]
  },
  {
   "cell_type": "code",
   "execution_count": 27,
   "metadata": {},
   "outputs": [
    {
     "data": {
      "text/plain": [
       "Condominium            18986\n",
       "Serviced Residence     11032\n",
       "Terrace/Link House      6289\n",
       "Semi-detached House     1458\n",
       "Apartment               1324\n",
       "Bungalow                 743\n",
       "Townhouse                441\n",
       "Flat                     232\n",
       "Residential Land          13\n",
       "Cluster House              5\n",
       "Name: Property Type Group, dtype: int64"
      ]
     },
     "execution_count": 27,
     "metadata": {},
     "output_type": "execute_result"
    }
   ],
   "source": [
    "df['Property Type Group'].value_counts()"
   ]
  },
  {
   "cell_type": "markdown",
   "metadata": {},
   "source": [
    "> Deleting the data with Property type group Residental Land and Cluster House, because this group too small"
   ]
  },
  {
   "cell_type": "code",
   "execution_count": 28,
   "metadata": {},
   "outputs": [],
   "source": [
    "df.drop(df[(df['Property Type Group'] == 'Residential Land') | (df['Property Type Group'] == 'Cluster House')].index,inplace=True)"
   ]
  },
  {
   "cell_type": "markdown",
   "metadata": {},
   "source": [
    "### 2.7 Size Colomn"
   ]
  },
  {
   "cell_type": "code",
   "execution_count": 29,
   "metadata": {},
   "outputs": [],
   "source": [
    "def size_type(size):\n",
    "    size = size.split(':')\n",
    "    size_type = size[0]\n",
    "    return size_type\n",
    "\n",
    "def size_num(size):\n",
    "    size = size.split(':')\n",
    "    size_num = size[1]\n",
    "    size_num = size_num.replace(' sq. ft.','')\n",
    "    size_num = size_num.lower()\n",
    "    size_num = size_num.replace(' ','')\n",
    "    size_num = size_num.replace('sf','')\n",
    "    if 'x' in size_num:\n",
    "        num = size_num.split('x')\n",
    "        try:\n",
    "            return int(num[0]) * int(num[1])\n",
    "        except:\n",
    "            return None\n",
    "    try:\n",
    "        return int(size_num.replace(',',''))\n",
    "    except:\n",
    "        return None"
   ]
  },
  {
   "cell_type": "code",
   "execution_count": 30,
   "metadata": {},
   "outputs": [],
   "source": [
    "df['Size Type'] = df['Size'].apply(size_type)"
   ]
  },
  {
   "cell_type": "code",
   "execution_count": 31,
   "metadata": {},
   "outputs": [],
   "source": [
    "df['Size Num'] = df['Size'].apply(size_num)"
   ]
  },
  {
   "cell_type": "markdown",
   "metadata": {},
   "source": [
    "> Outlier Checking"
   ]
  },
  {
   "cell_type": "code",
   "execution_count": 32,
   "metadata": {},
   "outputs": [
    {
     "data": {
      "text/plain": [
       "count      40210.00000\n",
       "mean        3617.94332\n",
       "std       230404.95272\n",
       "min            0.00000\n",
       "25%          990.00000\n",
       "50%         1328.00000\n",
       "75%         1876.00000\n",
       "max     40232000.00000\n",
       "Name: Size Num, dtype: float64"
      ]
     },
     "execution_count": 32,
     "metadata": {},
     "output_type": "execute_result"
    }
   ],
   "source": [
    "df['Size Num'].describe()"
   ]
  },
  {
   "cell_type": "code",
   "execution_count": 33,
   "metadata": {},
   "outputs": [],
   "source": [
    "df.drop(df[df['Size Num'] < 100].index,inplace=True)\n",
    "index,upper,lower= check_outlier(df,'Size Num')\n",
    "df.drop(index,inplace=True)\n",
    "df.dropna(inplace=True)"
   ]
  },
  {
   "cell_type": "code",
   "execution_count": 34,
   "metadata": {},
   "outputs": [
    {
     "data": {
      "text/html": [
       "<div>\n",
       "<style scoped>\n",
       "    .dataframe tbody tr th:only-of-type {\n",
       "        vertical-align: middle;\n",
       "    }\n",
       "\n",
       "    .dataframe tbody tr th {\n",
       "        vertical-align: top;\n",
       "    }\n",
       "\n",
       "    .dataframe thead th {\n",
       "        text-align: right;\n",
       "    }\n",
       "</style>\n",
       "<table border=\"1\" class=\"dataframe\">\n",
       "  <thead>\n",
       "    <tr style=\"text-align: right;\">\n",
       "      <th></th>\n",
       "      <th>Location</th>\n",
       "      <th>Price</th>\n",
       "      <th>Rooms</th>\n",
       "      <th>Bathrooms</th>\n",
       "      <th>Property Type</th>\n",
       "      <th>Size</th>\n",
       "      <th>Furnishing</th>\n",
       "      <th>Property Type Group</th>\n",
       "      <th>Size Type</th>\n",
       "      <th>Size Num</th>\n",
       "    </tr>\n",
       "  </thead>\n",
       "  <tbody>\n",
       "    <tr>\n",
       "      <th>0</th>\n",
       "      <td>klcc</td>\n",
       "      <td>1250000</td>\n",
       "      <td>3</td>\n",
       "      <td>3</td>\n",
       "      <td>Serviced Residence</td>\n",
       "      <td>Built-up : 1,335 sq. ft.</td>\n",
       "      <td>Fully Furnished</td>\n",
       "      <td>Serviced Residence</td>\n",
       "      <td>Built-up</td>\n",
       "      <td>1335.00000</td>\n",
       "    </tr>\n",
       "    <tr>\n",
       "      <th>2</th>\n",
       "      <td>dutamas</td>\n",
       "      <td>1030000</td>\n",
       "      <td>3</td>\n",
       "      <td>4</td>\n",
       "      <td>Condominium (Corner)</td>\n",
       "      <td>Built-up : 1,875 sq. ft.</td>\n",
       "      <td>Partly Furnished</td>\n",
       "      <td>Condominium</td>\n",
       "      <td>Built-up</td>\n",
       "      <td>1875.00000</td>\n",
       "    </tr>\n",
       "    <tr>\n",
       "      <th>3</th>\n",
       "      <td>bukit jalil</td>\n",
       "      <td>900000</td>\n",
       "      <td>5</td>\n",
       "      <td>3</td>\n",
       "      <td>Condominium (Corner)</td>\n",
       "      <td>Built-up : 1,513 sq. ft.</td>\n",
       "      <td>Partly Furnished</td>\n",
       "      <td>Condominium</td>\n",
       "      <td>Built-up</td>\n",
       "      <td>1513.00000</td>\n",
       "    </tr>\n",
       "    <tr>\n",
       "      <th>6</th>\n",
       "      <td>taman tun dr ismail</td>\n",
       "      <td>1950000</td>\n",
       "      <td>5</td>\n",
       "      <td>4</td>\n",
       "      <td>2-sty Terrace/Link House (EndLot)</td>\n",
       "      <td>Land area : 25x75 sq. ft.</td>\n",
       "      <td>Partly Furnished</td>\n",
       "      <td>Terrace/Link House</td>\n",
       "      <td>Land area</td>\n",
       "      <td>1875.00000</td>\n",
       "    </tr>\n",
       "    <tr>\n",
       "      <th>7</th>\n",
       "      <td>sri petaling</td>\n",
       "      <td>385000</td>\n",
       "      <td>3</td>\n",
       "      <td>2</td>\n",
       "      <td>Apartment (Intermediate)</td>\n",
       "      <td>Built-up : 904 sq. ft.</td>\n",
       "      <td>Partly Furnished</td>\n",
       "      <td>Apartment</td>\n",
       "      <td>Built-up</td>\n",
       "      <td>904.00000</td>\n",
       "    </tr>\n",
       "  </tbody>\n",
       "</table>\n",
       "</div>"
      ],
      "text/plain": [
       "              Location    Price  Rooms  Bathrooms  \\\n",
       "0                 klcc  1250000      3          3   \n",
       "2              dutamas  1030000      3          4   \n",
       "3          bukit jalil   900000      5          3   \n",
       "6  taman tun dr ismail  1950000      5          4   \n",
       "7         sri petaling   385000      3          2   \n",
       "\n",
       "                       Property Type                       Size  \\\n",
       "0                 Serviced Residence   Built-up : 1,335 sq. ft.   \n",
       "2               Condominium (Corner)   Built-up : 1,875 sq. ft.   \n",
       "3               Condominium (Corner)   Built-up : 1,513 sq. ft.   \n",
       "6  2-sty Terrace/Link House (EndLot)  Land area : 25x75 sq. ft.   \n",
       "7           Apartment (Intermediate)     Built-up : 904 sq. ft.   \n",
       "\n",
       "         Furnishing Property Type Group   Size Type   Size Num  \n",
       "0   Fully Furnished  Serviced Residence   Built-up  1335.00000  \n",
       "2  Partly Furnished         Condominium   Built-up  1875.00000  \n",
       "3  Partly Furnished         Condominium   Built-up  1513.00000  \n",
       "6  Partly Furnished  Terrace/Link House  Land area  1875.00000  \n",
       "7  Partly Furnished           Apartment   Built-up   904.00000  "
      ]
     },
     "execution_count": 34,
     "metadata": {},
     "output_type": "execute_result"
    }
   ],
   "source": [
    "df.head()"
   ]
  },
  {
   "cell_type": "markdown",
   "metadata": {},
   "source": [
    "### 2.8 Furnishing Colomn Handling"
   ]
  },
  {
   "cell_type": "code",
   "execution_count": 35,
   "metadata": {},
   "outputs": [
    {
     "data": {
      "text/plain": [
       "Partly Furnished    19492\n",
       "Fully Furnished     11773\n",
       "Unfurnished          4379\n",
       "Unknown               370\n",
       "Name: Furnishing, dtype: int64"
      ]
     },
     "execution_count": 35,
     "metadata": {},
     "output_type": "execute_result"
    }
   ],
   "source": [
    "df['Furnishing'].value_counts()"
   ]
  },
  {
   "cell_type": "markdown",
   "metadata": {},
   "source": [
    "## 3.  Modelling"
   ]
  },
  {
   "cell_type": "markdown",
   "metadata": {},
   "source": [
    "### 3.1 First Modelling"
   ]
  },
  {
   "cell_type": "code",
   "execution_count": 36,
   "metadata": {},
   "outputs": [],
   "source": [
    "from sklearn.model_selection import KFold"
   ]
  },
  {
   "cell_type": "code",
   "execution_count": 37,
   "metadata": {},
   "outputs": [],
   "source": [
    "from sklearn.linear_model import LinearRegression,Lasso,Ridge\n",
    "from sklearn.tree import DecisionTreeRegressor\n",
    "from sklearn.ensemble import RandomForestRegressor,GradientBoostingRegressor\n",
    "from sklearn.metrics import mean_absolute_error,mean_squared_error,r2_score"
   ]
  },
  {
   "cell_type": "code",
   "execution_count": 38,
   "metadata": {},
   "outputs": [],
   "source": [
    "x = df[['Location','Rooms','Bathrooms','Furnishing','Property Type Group','Size Type','Size Num']]\n",
    "y = df['Price']"
   ]
  },
  {
   "cell_type": "code",
   "execution_count": 39,
   "metadata": {},
   "outputs": [],
   "source": [
    "x = pd.get_dummies(x,drop_first=True)"
   ]
  },
  {
   "cell_type": "code",
   "execution_count": 40,
   "metadata": {},
   "outputs": [],
   "source": [
    "def regression_model(n_cv):\n",
    "    score = []\n",
    "    model_name = ['Linear Regression','Lasso','Ridge','DecisionTreeRegressor','RandomForestRegressor','GradientBoostingRegressor']\n",
    "    models = [LinearRegression,Lasso,Ridge,DecisionTreeRegressor,RandomForestRegressor,GradientBoostingRegressor]\n",
    "    for item in models:\n",
    "        rmse = []\n",
    "        mae = []\n",
    "        kf = KFold(n_splits=n_cv,shuffle=True)\n",
    "        for train_index , test_index in kf.split(x,y):\n",
    "            X_train,X_test,y_train,y_test = x.iloc[train_index],x.iloc[test_index],y.iloc[train_index],y.iloc[test_index]\n",
    "            model = item()\n",
    "            model.fit(X_train,y_train)\n",
    "            prediction = model.predict(X_test)\n",
    "            mae.append(round(mean_absolute_error(y_test,prediction),2))\n",
    "            rmse.append(round(np.sqrt(mean_squared_error(y_test,prediction)),2))\n",
    "\n",
    "        temp = [\n",
    "            sum(mae)/n_cv,\n",
    "            sum(rmse)/n_cv\n",
    "        ]\n",
    "        score.append(temp)\n",
    "    return pd.DataFrame(score,columns=['MAE','RMSE'],index=model_name)"
   ]
  },
  {
   "cell_type": "code",
   "execution_count": 41,
   "metadata": {},
   "outputs": [
    {
     "name": "stderr",
     "output_type": "stream",
     "text": [
      "/Users/mac/anaconda3/lib/python3.7/site-packages/sklearn/ensemble/forest.py:245: FutureWarning: The default value of n_estimators will change from 10 in version 0.20 to 100 in 0.22.\n",
      "  \"10 in version 0.20 to 100 in 0.22.\", FutureWarning)\n",
      "/Users/mac/anaconda3/lib/python3.7/site-packages/sklearn/ensemble/forest.py:245: FutureWarning: The default value of n_estimators will change from 10 in version 0.20 to 100 in 0.22.\n",
      "  \"10 in version 0.20 to 100 in 0.22.\", FutureWarning)\n",
      "/Users/mac/anaconda3/lib/python3.7/site-packages/sklearn/ensemble/forest.py:245: FutureWarning: The default value of n_estimators will change from 10 in version 0.20 to 100 in 0.22.\n",
      "  \"10 in version 0.20 to 100 in 0.22.\", FutureWarning)\n",
      "/Users/mac/anaconda3/lib/python3.7/site-packages/sklearn/ensemble/forest.py:245: FutureWarning: The default value of n_estimators will change from 10 in version 0.20 to 100 in 0.22.\n",
      "  \"10 in version 0.20 to 100 in 0.22.\", FutureWarning)\n",
      "/Users/mac/anaconda3/lib/python3.7/site-packages/sklearn/ensemble/forest.py:245: FutureWarning: The default value of n_estimators will change from 10 in version 0.20 to 100 in 0.22.\n",
      "  \"10 in version 0.20 to 100 in 0.22.\", FutureWarning)\n"
     ]
    },
    {
     "data": {
      "text/html": [
       "<div>\n",
       "<style scoped>\n",
       "    .dataframe tbody tr th:only-of-type {\n",
       "        vertical-align: middle;\n",
       "    }\n",
       "\n",
       "    .dataframe tbody tr th {\n",
       "        vertical-align: top;\n",
       "    }\n",
       "\n",
       "    .dataframe thead th {\n",
       "        text-align: right;\n",
       "    }\n",
       "</style>\n",
       "<table border=\"1\" class=\"dataframe\">\n",
       "  <thead>\n",
       "    <tr style=\"text-align: right;\">\n",
       "      <th></th>\n",
       "      <th>MAE</th>\n",
       "      <th>RMSE</th>\n",
       "    </tr>\n",
       "  </thead>\n",
       "  <tbody>\n",
       "    <tr>\n",
       "      <th>Linear Regression</th>\n",
       "      <td>225376.31600</td>\n",
       "      <td>341593.72800</td>\n",
       "    </tr>\n",
       "    <tr>\n",
       "      <th>Lasso</th>\n",
       "      <td>225471.76200</td>\n",
       "      <td>341604.86600</td>\n",
       "    </tr>\n",
       "    <tr>\n",
       "      <th>Ridge</th>\n",
       "      <td>225416.28400</td>\n",
       "      <td>341578.86600</td>\n",
       "    </tr>\n",
       "    <tr>\n",
       "      <th>DecisionTreeRegressor</th>\n",
       "      <td>125091.54000</td>\n",
       "      <td>261873.90000</td>\n",
       "    </tr>\n",
       "    <tr>\n",
       "      <th>RandomForestRegressor</th>\n",
       "      <td>118154.30200</td>\n",
       "      <td>226946.94800</td>\n",
       "    </tr>\n",
       "    <tr>\n",
       "      <th>GradientBoostingRegressor</th>\n",
       "      <td>206294.60800</td>\n",
       "      <td>313444.68400</td>\n",
       "    </tr>\n",
       "  </tbody>\n",
       "</table>\n",
       "</div>"
      ],
      "text/plain": [
       "                                   MAE         RMSE\n",
       "Linear Regression         225376.31600 341593.72800\n",
       "Lasso                     225471.76200 341604.86600\n",
       "Ridge                     225416.28400 341578.86600\n",
       "DecisionTreeRegressor     125091.54000 261873.90000\n",
       "RandomForestRegressor     118154.30200 226946.94800\n",
       "GradientBoostingRegressor 206294.60800 313444.68400"
      ]
     },
     "execution_count": 41,
     "metadata": {},
     "output_type": "execute_result"
    }
   ],
   "source": [
    "regression_model(5)"
   ]
  },
  {
   "cell_type": "markdown",
   "metadata": {},
   "source": [
    "### 3.2 Second Modelling"
   ]
  },
  {
   "cell_type": "code",
   "execution_count": 42,
   "metadata": {},
   "outputs": [],
   "source": [
    "x_y = df[['Location','Rooms','Bathrooms','Furnishing','Property Type Group','Size Type','Size Num','Price']]\n",
    "x_y = x_y[x_y['Price'] < 1200000]"
   ]
  },
  {
   "cell_type": "code",
   "execution_count": 43,
   "metadata": {},
   "outputs": [],
   "source": [
    "x_y = x_y[x_y['Price'] > 20000]"
   ]
  },
  {
   "cell_type": "code",
   "execution_count": 44,
   "metadata": {},
   "outputs": [],
   "source": [
    "x_y = x_y.drop(x_y[x_y['Furnishing'] == 'Unknown'].index)\n",
    "x = x_y.drop(['Price'],axis=1)\n",
    "y = x_y['Price']\n",
    "x =pd.get_dummies(x)"
   ]
  },
  {
   "cell_type": "code",
   "execution_count": 45,
   "metadata": {},
   "outputs": [
    {
     "name": "stderr",
     "output_type": "stream",
     "text": [
      "/Users/mac/anaconda3/lib/python3.7/site-packages/sklearn/linear_model/coordinate_descent.py:475: ConvergenceWarning: Objective did not converge. You might want to increase the number of iterations. Duality gap: 38808347310797.5, tolerance: 109445395970.86548\n",
      "  positive)\n",
      "/Users/mac/anaconda3/lib/python3.7/site-packages/sklearn/linear_model/coordinate_descent.py:475: ConvergenceWarning: Objective did not converge. You might want to increase the number of iterations. Duality gap: 38958987285365.53, tolerance: 110197514157.2615\n",
      "  positive)\n",
      "/Users/mac/anaconda3/lib/python3.7/site-packages/sklearn/linear_model/coordinate_descent.py:475: ConvergenceWarning: Objective did not converge. You might want to increase the number of iterations. Duality gap: 39128177305950.84, tolerance: 109782061850.89323\n",
      "  positive)\n",
      "/Users/mac/anaconda3/lib/python3.7/site-packages/sklearn/linear_model/coordinate_descent.py:475: ConvergenceWarning: Objective did not converge. You might want to increase the number of iterations. Duality gap: 39289080849528.44, tolerance: 110109071203.21037\n",
      "  positive)\n",
      "/Users/mac/anaconda3/lib/python3.7/site-packages/sklearn/linear_model/coordinate_descent.py:475: ConvergenceWarning: Objective did not converge. You might want to increase the number of iterations. Duality gap: 38453972542791.72, tolerance: 109476407898.28981\n",
      "  positive)\n",
      "/Users/mac/anaconda3/lib/python3.7/site-packages/sklearn/ensemble/forest.py:245: FutureWarning: The default value of n_estimators will change from 10 in version 0.20 to 100 in 0.22.\n",
      "  \"10 in version 0.20 to 100 in 0.22.\", FutureWarning)\n",
      "/Users/mac/anaconda3/lib/python3.7/site-packages/sklearn/ensemble/forest.py:245: FutureWarning: The default value of n_estimators will change from 10 in version 0.20 to 100 in 0.22.\n",
      "  \"10 in version 0.20 to 100 in 0.22.\", FutureWarning)\n",
      "/Users/mac/anaconda3/lib/python3.7/site-packages/sklearn/ensemble/forest.py:245: FutureWarning: The default value of n_estimators will change from 10 in version 0.20 to 100 in 0.22.\n",
      "  \"10 in version 0.20 to 100 in 0.22.\", FutureWarning)\n",
      "/Users/mac/anaconda3/lib/python3.7/site-packages/sklearn/ensemble/forest.py:245: FutureWarning: The default value of n_estimators will change from 10 in version 0.20 to 100 in 0.22.\n",
      "  \"10 in version 0.20 to 100 in 0.22.\", FutureWarning)\n",
      "/Users/mac/anaconda3/lib/python3.7/site-packages/sklearn/ensemble/forest.py:245: FutureWarning: The default value of n_estimators will change from 10 in version 0.20 to 100 in 0.22.\n",
      "  \"10 in version 0.20 to 100 in 0.22.\", FutureWarning)\n"
     ]
    },
    {
     "data": {
      "text/html": [
       "<div>\n",
       "<style scoped>\n",
       "    .dataframe tbody tr th:only-of-type {\n",
       "        vertical-align: middle;\n",
       "    }\n",
       "\n",
       "    .dataframe tbody tr th {\n",
       "        vertical-align: top;\n",
       "    }\n",
       "\n",
       "    .dataframe thead th {\n",
       "        text-align: right;\n",
       "    }\n",
       "</style>\n",
       "<table border=\"1\" class=\"dataframe\">\n",
       "  <thead>\n",
       "    <tr style=\"text-align: right;\">\n",
       "      <th></th>\n",
       "      <th>MAE</th>\n",
       "      <th>RMSE</th>\n",
       "    </tr>\n",
       "  </thead>\n",
       "  <tbody>\n",
       "    <tr>\n",
       "      <th>Linear Regression</th>\n",
       "      <td>110336.87200</td>\n",
       "      <td>144223.05400</td>\n",
       "    </tr>\n",
       "    <tr>\n",
       "      <th>Lasso</th>\n",
       "      <td>110367.23000</td>\n",
       "      <td>144289.23800</td>\n",
       "    </tr>\n",
       "    <tr>\n",
       "      <th>Ridge</th>\n",
       "      <td>110364.25000</td>\n",
       "      <td>144332.62800</td>\n",
       "    </tr>\n",
       "    <tr>\n",
       "      <th>DecisionTreeRegressor</th>\n",
       "      <td>60848.95800</td>\n",
       "      <td>101387.82000</td>\n",
       "    </tr>\n",
       "    <tr>\n",
       "      <th>RandomForestRegressor</th>\n",
       "      <td>57537.55800</td>\n",
       "      <td>88845.75200</td>\n",
       "    </tr>\n",
       "    <tr>\n",
       "      <th>GradientBoostingRegressor</th>\n",
       "      <td>102703.11000</td>\n",
       "      <td>131666.84800</td>\n",
       "    </tr>\n",
       "  </tbody>\n",
       "</table>\n",
       "</div>"
      ],
      "text/plain": [
       "                                   MAE         RMSE\n",
       "Linear Regression         110336.87200 144223.05400\n",
       "Lasso                     110367.23000 144289.23800\n",
       "Ridge                     110364.25000 144332.62800\n",
       "DecisionTreeRegressor      60848.95800 101387.82000\n",
       "RandomForestRegressor      57537.55800  88845.75200\n",
       "GradientBoostingRegressor 102703.11000 131666.84800"
      ]
     },
     "execution_count": 45,
     "metadata": {},
     "output_type": "execute_result"
    }
   ],
   "source": [
    "regression_model(5)"
   ]
  },
  {
   "cell_type": "code",
   "execution_count": null,
   "metadata": {},
   "outputs": [],
   "source": []
  },
  {
   "cell_type": "code",
   "execution_count": 46,
   "metadata": {},
   "outputs": [],
   "source": [
    "from sklearn.model_selection import train_test_split"
   ]
  },
  {
   "cell_type": "code",
   "execution_count": 47,
   "metadata": {},
   "outputs": [],
   "source": [
    "X_train,X_test, y_train,y_test = train_test_split(x,y)"
   ]
  },
  {
   "cell_type": "code",
   "execution_count": 48,
   "metadata": {},
   "outputs": [],
   "source": [
    "model = RandomForestRegressor()"
   ]
  },
  {
   "cell_type": "code",
   "execution_count": 49,
   "metadata": {},
   "outputs": [
    {
     "name": "stderr",
     "output_type": "stream",
     "text": [
      "/Users/mac/anaconda3/lib/python3.7/site-packages/sklearn/ensemble/forest.py:245: FutureWarning: The default value of n_estimators will change from 10 in version 0.20 to 100 in 0.22.\n",
      "  \"10 in version 0.20 to 100 in 0.22.\", FutureWarning)\n"
     ]
    },
    {
     "data": {
      "text/plain": [
       "RandomForestRegressor(bootstrap=True, criterion='mse', max_depth=None,\n",
       "                      max_features='auto', max_leaf_nodes=None,\n",
       "                      min_impurity_decrease=0.0, min_impurity_split=None,\n",
       "                      min_samples_leaf=1, min_samples_split=2,\n",
       "                      min_weight_fraction_leaf=0.0, n_estimators=10,\n",
       "                      n_jobs=None, oob_score=False, random_state=None,\n",
       "                      verbose=0, warm_start=False)"
      ]
     },
     "execution_count": 49,
     "metadata": {},
     "output_type": "execute_result"
    }
   ],
   "source": [
    "model.fit(X_train,y_train)"
   ]
  },
  {
   "cell_type": "code",
   "execution_count": 50,
   "metadata": {},
   "outputs": [],
   "source": [
    "prediction = model.predict(X_test)"
   ]
  },
  {
   "cell_type": "code",
   "execution_count": 51,
   "metadata": {},
   "outputs": [
    {
     "data": {
      "text/plain": [
       "<matplotlib.axes._subplots.AxesSubplot at 0x1a1fcb78d0>"
      ]
     },
     "execution_count": 51,
     "metadata": {},
     "output_type": "execute_result"
    },
    {
     "data": {
      "image/png": "[encoded data removed]",
      "text/plain": [
       "<Figure size 1080x576 with 1 Axes>"
      ]
     },
     "metadata": {
      "needs_background": "light"
     },
     "output_type": "display_data"
    }
   ],
   "source": [
    "plt.figure(figsize=(15,8))\n",
    "sns.scatterplot(prediction,y_test)"
   ]
  },
  {
   "cell_type": "code",
   "execution_count": 52,
   "metadata": {},
   "outputs": [],
   "source": [
    "df_prediction = pd.DataFrame({'y_true' : y_test , 'y_pred' : prediction})\n",
    "df_prediction['Selisih'] = abs(df_prediction['y_true'] - df_prediction['y_pred'])"
   ]
  },
  {
   "cell_type": "code",
   "execution_count": 53,
   "metadata": {},
   "outputs": [
    {
     "data": {
      "text/html": [
       "<div>\n",
       "<style scoped>\n",
       "    .dataframe tbody tr th:only-of-type {\n",
       "        vertical-align: middle;\n",
       "    }\n",
       "\n",
       "    .dataframe tbody tr th {\n",
       "        vertical-align: top;\n",
       "    }\n",
       "\n",
       "    .dataframe thead th {\n",
       "        text-align: right;\n",
       "    }\n",
       "</style>\n",
       "<table border=\"1\" class=\"dataframe\">\n",
       "  <thead>\n",
       "    <tr style=\"text-align: right;\">\n",
       "      <th></th>\n",
       "      <th>y_true</th>\n",
       "      <th>y_pred</th>\n",
       "      <th>Selisih</th>\n",
       "    </tr>\n",
       "  </thead>\n",
       "  <tbody>\n",
       "    <tr>\n",
       "      <th>20511</th>\n",
       "      <td>450000</td>\n",
       "      <td>1069166.66667</td>\n",
       "      <td>619166.66667</td>\n",
       "    </tr>\n",
       "    <tr>\n",
       "      <th>27196</th>\n",
       "      <td>490000</td>\n",
       "      <td>1064766.66667</td>\n",
       "      <td>574766.66667</td>\n",
       "    </tr>\n",
       "    <tr>\n",
       "      <th>842</th>\n",
       "      <td>1150000</td>\n",
       "      <td>580696.66667</td>\n",
       "      <td>569303.33333</td>\n",
       "    </tr>\n",
       "    <tr>\n",
       "      <th>34116</th>\n",
       "      <td>1100000</td>\n",
       "      <td>537500.00000</td>\n",
       "      <td>562500.00000</td>\n",
       "    </tr>\n",
       "    <tr>\n",
       "      <th>13147</th>\n",
       "      <td>1080000</td>\n",
       "      <td>526000.00000</td>\n",
       "      <td>554000.00000</td>\n",
       "    </tr>\n",
       "    <tr>\n",
       "      <th>43704</th>\n",
       "      <td>550000</td>\n",
       "      <td>1083900.00000</td>\n",
       "      <td>533900.00000</td>\n",
       "    </tr>\n",
       "    <tr>\n",
       "      <th>27303</th>\n",
       "      <td>440000</td>\n",
       "      <td>937000.00000</td>\n",
       "      <td>497000.00000</td>\n",
       "    </tr>\n",
       "    <tr>\n",
       "      <th>19334</th>\n",
       "      <td>1150000</td>\n",
       "      <td>666466.66667</td>\n",
       "      <td>483533.33333</td>\n",
       "    </tr>\n",
       "    <tr>\n",
       "      <th>17588</th>\n",
       "      <td>388000</td>\n",
       "      <td>863000.00000</td>\n",
       "      <td>475000.00000</td>\n",
       "    </tr>\n",
       "    <tr>\n",
       "      <th>26055</th>\n",
       "      <td>265000</td>\n",
       "      <td>727856.66667</td>\n",
       "      <td>462856.66667</td>\n",
       "    </tr>\n",
       "    <tr>\n",
       "      <th>7599</th>\n",
       "      <td>635000</td>\n",
       "      <td>1093464.28571</td>\n",
       "      <td>458464.28571</td>\n",
       "    </tr>\n",
       "    <tr>\n",
       "      <th>39227</th>\n",
       "      <td>458000</td>\n",
       "      <td>905266.66667</td>\n",
       "      <td>447266.66667</td>\n",
       "    </tr>\n",
       "    <tr>\n",
       "      <th>41500</th>\n",
       "      <td>1100000</td>\n",
       "      <td>658850.00000</td>\n",
       "      <td>441150.00000</td>\n",
       "    </tr>\n",
       "    <tr>\n",
       "      <th>26565</th>\n",
       "      <td>1155000</td>\n",
       "      <td>722528.57143</td>\n",
       "      <td>432471.42857</td>\n",
       "    </tr>\n",
       "    <tr>\n",
       "      <th>23184</th>\n",
       "      <td>1195000</td>\n",
       "      <td>765046.66667</td>\n",
       "      <td>429953.33333</td>\n",
       "    </tr>\n",
       "    <tr>\n",
       "      <th>26314</th>\n",
       "      <td>618000</td>\n",
       "      <td>1034500.00000</td>\n",
       "      <td>416500.00000</td>\n",
       "    </tr>\n",
       "    <tr>\n",
       "      <th>9402</th>\n",
       "      <td>1080000</td>\n",
       "      <td>665233.33333</td>\n",
       "      <td>414766.66667</td>\n",
       "    </tr>\n",
       "    <tr>\n",
       "      <th>24101</th>\n",
       "      <td>680000</td>\n",
       "      <td>1091117.46032</td>\n",
       "      <td>411117.46032</td>\n",
       "    </tr>\n",
       "    <tr>\n",
       "      <th>22328</th>\n",
       "      <td>1050000</td>\n",
       "      <td>643416.66667</td>\n",
       "      <td>406583.33333</td>\n",
       "    </tr>\n",
       "    <tr>\n",
       "      <th>14872</th>\n",
       "      <td>828398</td>\n",
       "      <td>423469.04762</td>\n",
       "      <td>404928.95238</td>\n",
       "    </tr>\n",
       "    <tr>\n",
       "      <th>32459</th>\n",
       "      <td>350000</td>\n",
       "      <td>754838.13853</td>\n",
       "      <td>404838.13853</td>\n",
       "    </tr>\n",
       "    <tr>\n",
       "      <th>27117</th>\n",
       "      <td>1170000</td>\n",
       "      <td>765897.00000</td>\n",
       "      <td>404103.00000</td>\n",
       "    </tr>\n",
       "    <tr>\n",
       "      <th>26022</th>\n",
       "      <td>540000</td>\n",
       "      <td>944000.00000</td>\n",
       "      <td>404000.00000</td>\n",
       "    </tr>\n",
       "    <tr>\n",
       "      <th>6162</th>\n",
       "      <td>360000</td>\n",
       "      <td>761400.00000</td>\n",
       "      <td>401400.00000</td>\n",
       "    </tr>\n",
       "    <tr>\n",
       "      <th>27504</th>\n",
       "      <td>550000</td>\n",
       "      <td>948200.00000</td>\n",
       "      <td>398200.00000</td>\n",
       "    </tr>\n",
       "    <tr>\n",
       "      <th>42682</th>\n",
       "      <td>650000</td>\n",
       "      <td>1038299.00000</td>\n",
       "      <td>388299.00000</td>\n",
       "    </tr>\n",
       "    <tr>\n",
       "      <th>20498</th>\n",
       "      <td>415000</td>\n",
       "      <td>802900.00000</td>\n",
       "      <td>387900.00000</td>\n",
       "    </tr>\n",
       "    <tr>\n",
       "      <th>407</th>\n",
       "      <td>360000</td>\n",
       "      <td>739247.00000</td>\n",
       "      <td>379247.00000</td>\n",
       "    </tr>\n",
       "    <tr>\n",
       "      <th>22831</th>\n",
       "      <td>1180000</td>\n",
       "      <td>802400.00000</td>\n",
       "      <td>377600.00000</td>\n",
       "    </tr>\n",
       "    <tr>\n",
       "      <th>37466</th>\n",
       "      <td>998800</td>\n",
       "      <td>623800.00000</td>\n",
       "      <td>375000.00000</td>\n",
       "    </tr>\n",
       "    <tr>\n",
       "      <th>...</th>\n",
       "      <td>...</td>\n",
       "      <td>...</td>\n",
       "      <td>...</td>\n",
       "    </tr>\n",
       "    <tr>\n",
       "      <th>37767</th>\n",
       "      <td>470000</td>\n",
       "      <td>470000.00000</td>\n",
       "      <td>0.00000</td>\n",
       "    </tr>\n",
       "    <tr>\n",
       "      <th>23419</th>\n",
       "      <td>535000</td>\n",
       "      <td>535000.00000</td>\n",
       "      <td>0.00000</td>\n",
       "    </tr>\n",
       "    <tr>\n",
       "      <th>33340</th>\n",
       "      <td>420000</td>\n",
       "      <td>420000.00000</td>\n",
       "      <td>0.00000</td>\n",
       "    </tr>\n",
       "    <tr>\n",
       "      <th>13475</th>\n",
       "      <td>330000</td>\n",
       "      <td>330000.00000</td>\n",
       "      <td>0.00000</td>\n",
       "    </tr>\n",
       "    <tr>\n",
       "      <th>846</th>\n",
       "      <td>561100</td>\n",
       "      <td>561100.00000</td>\n",
       "      <td>0.00000</td>\n",
       "    </tr>\n",
       "    <tr>\n",
       "      <th>8958</th>\n",
       "      <td>560000</td>\n",
       "      <td>560000.00000</td>\n",
       "      <td>0.00000</td>\n",
       "    </tr>\n",
       "    <tr>\n",
       "      <th>4464</th>\n",
       "      <td>510300</td>\n",
       "      <td>510300.00000</td>\n",
       "      <td>0.00000</td>\n",
       "    </tr>\n",
       "    <tr>\n",
       "      <th>42594</th>\n",
       "      <td>850000</td>\n",
       "      <td>850000.00000</td>\n",
       "      <td>0.00000</td>\n",
       "    </tr>\n",
       "    <tr>\n",
       "      <th>29606</th>\n",
       "      <td>500000</td>\n",
       "      <td>500000.00000</td>\n",
       "      <td>0.00000</td>\n",
       "    </tr>\n",
       "    <tr>\n",
       "      <th>40206</th>\n",
       "      <td>1120000</td>\n",
       "      <td>1120000.00000</td>\n",
       "      <td>0.00000</td>\n",
       "    </tr>\n",
       "    <tr>\n",
       "      <th>8876</th>\n",
       "      <td>675000</td>\n",
       "      <td>675000.00000</td>\n",
       "      <td>0.00000</td>\n",
       "    </tr>\n",
       "    <tr>\n",
       "      <th>5454</th>\n",
       "      <td>510300</td>\n",
       "      <td>510300.00000</td>\n",
       "      <td>0.00000</td>\n",
       "    </tr>\n",
       "    <tr>\n",
       "      <th>16513</th>\n",
       "      <td>950000</td>\n",
       "      <td>950000.00000</td>\n",
       "      <td>0.00000</td>\n",
       "    </tr>\n",
       "    <tr>\n",
       "      <th>746</th>\n",
       "      <td>535000</td>\n",
       "      <td>535000.00000</td>\n",
       "      <td>0.00000</td>\n",
       "    </tr>\n",
       "    <tr>\n",
       "      <th>29572</th>\n",
       "      <td>720600</td>\n",
       "      <td>720600.00000</td>\n",
       "      <td>0.00000</td>\n",
       "    </tr>\n",
       "    <tr>\n",
       "      <th>23176</th>\n",
       "      <td>480000</td>\n",
       "      <td>480000.00000</td>\n",
       "      <td>0.00000</td>\n",
       "    </tr>\n",
       "    <tr>\n",
       "      <th>5407</th>\n",
       "      <td>535000</td>\n",
       "      <td>535000.00000</td>\n",
       "      <td>0.00000</td>\n",
       "    </tr>\n",
       "    <tr>\n",
       "      <th>4124</th>\n",
       "      <td>490000</td>\n",
       "      <td>490000.00000</td>\n",
       "      <td>0.00000</td>\n",
       "    </tr>\n",
       "    <tr>\n",
       "      <th>39433</th>\n",
       "      <td>1150000</td>\n",
       "      <td>1150000.00000</td>\n",
       "      <td>0.00000</td>\n",
       "    </tr>\n",
       "    <tr>\n",
       "      <th>13471</th>\n",
       "      <td>330000</td>\n",
       "      <td>330000.00000</td>\n",
       "      <td>0.00000</td>\n",
       "    </tr>\n",
       "    <tr>\n",
       "      <th>11091</th>\n",
       "      <td>850000</td>\n",
       "      <td>850000.00000</td>\n",
       "      <td>0.00000</td>\n",
       "    </tr>\n",
       "    <tr>\n",
       "      <th>29357</th>\n",
       "      <td>850000</td>\n",
       "      <td>850000.00000</td>\n",
       "      <td>0.00000</td>\n",
       "    </tr>\n",
       "    <tr>\n",
       "      <th>5385</th>\n",
       "      <td>561100</td>\n",
       "      <td>561100.00000</td>\n",
       "      <td>0.00000</td>\n",
       "    </tr>\n",
       "    <tr>\n",
       "      <th>35338</th>\n",
       "      <td>750000</td>\n",
       "      <td>750000.00000</td>\n",
       "      <td>0.00000</td>\n",
       "    </tr>\n",
       "    <tr>\n",
       "      <th>9836</th>\n",
       "      <td>490000</td>\n",
       "      <td>490000.00000</td>\n",
       "      <td>0.00000</td>\n",
       "    </tr>\n",
       "    <tr>\n",
       "      <th>37479</th>\n",
       "      <td>493600</td>\n",
       "      <td>493600.00000</td>\n",
       "      <td>0.00000</td>\n",
       "    </tr>\n",
       "    <tr>\n",
       "      <th>13481</th>\n",
       "      <td>330000</td>\n",
       "      <td>330000.00000</td>\n",
       "      <td>0.00000</td>\n",
       "    </tr>\n",
       "    <tr>\n",
       "      <th>39920</th>\n",
       "      <td>400000</td>\n",
       "      <td>400000.00000</td>\n",
       "      <td>0.00000</td>\n",
       "    </tr>\n",
       "    <tr>\n",
       "      <th>26107</th>\n",
       "      <td>673600</td>\n",
       "      <td>673600.00000</td>\n",
       "      <td>0.00000</td>\n",
       "    </tr>\n",
       "    <tr>\n",
       "      <th>15776</th>\n",
       "      <td>370000</td>\n",
       "      <td>370000.00000</td>\n",
       "      <td>0.00000</td>\n",
       "    </tr>\n",
       "  </tbody>\n",
       "</table>\n",
       "<p>6069 rows × 3 columns</p>\n",
       "</div>"
      ],
      "text/plain": [
       "        y_true        y_pred      Selisih\n",
       "20511   450000 1069166.66667 619166.66667\n",
       "27196   490000 1064766.66667 574766.66667\n",
       "842    1150000  580696.66667 569303.33333\n",
       "34116  1100000  537500.00000 562500.00000\n",
       "13147  1080000  526000.00000 554000.00000\n",
       "43704   550000 1083900.00000 533900.00000\n",
       "27303   440000  937000.00000 497000.00000\n",
       "19334  1150000  666466.66667 483533.33333\n",
       "17588   388000  863000.00000 475000.00000\n",
       "26055   265000  727856.66667 462856.66667\n",
       "7599    635000 1093464.28571 458464.28571\n",
       "39227   458000  905266.66667 447266.66667\n",
       "41500  1100000  658850.00000 441150.00000\n",
       "26565  1155000  722528.57143 432471.42857\n",
       "23184  1195000  765046.66667 429953.33333\n",
       "26314   618000 1034500.00000 416500.00000\n",
       "9402   1080000  665233.33333 414766.66667\n",
       "24101   680000 1091117.46032 411117.46032\n",
       "22328  1050000  643416.66667 406583.33333\n",
       "14872   828398  423469.04762 404928.95238\n",
       "32459   350000  754838.13853 404838.13853\n",
       "27117  1170000  765897.00000 404103.00000\n",
       "26022   540000  944000.00000 404000.00000\n",
       "6162    360000  761400.00000 401400.00000\n",
       "27504   550000  948200.00000 398200.00000\n",
       "42682   650000 1038299.00000 388299.00000\n",
       "20498   415000  802900.00000 387900.00000\n",
       "407     360000  739247.00000 379247.00000\n",
       "22831  1180000  802400.00000 377600.00000\n",
       "37466   998800  623800.00000 375000.00000\n",
       "...        ...           ...          ...\n",
       "37767   470000  470000.00000      0.00000\n",
       "23419   535000  535000.00000      0.00000\n",
       "33340   420000  420000.00000      0.00000\n",
       "13475   330000  330000.00000      0.00000\n",
       "846     561100  561100.00000      0.00000\n",
       "8958    560000  560000.00000      0.00000\n",
       "4464    510300  510300.00000      0.00000\n",
       "42594   850000  850000.00000      0.00000\n",
       "29606   500000  500000.00000      0.00000\n",
       "40206  1120000 1120000.00000      0.00000\n",
       "8876    675000  675000.00000      0.00000\n",
       "5454    510300  510300.00000      0.00000\n",
       "16513   950000  950000.00000      0.00000\n",
       "746     535000  535000.00000      0.00000\n",
       "29572   720600  720600.00000      0.00000\n",
       "23176   480000  480000.00000      0.00000\n",
       "5407    535000  535000.00000      0.00000\n",
       "4124    490000  490000.00000      0.00000\n",
       "39433  1150000 1150000.00000      0.00000\n",
       "13471   330000  330000.00000      0.00000\n",
       "11091   850000  850000.00000      0.00000\n",
       "29357   850000  850000.00000      0.00000\n",
       "5385    561100  561100.00000      0.00000\n",
       "35338   750000  750000.00000      0.00000\n",
       "9836    490000  490000.00000      0.00000\n",
       "37479   493600  493600.00000      0.00000\n",
       "13481   330000  330000.00000      0.00000\n",
       "39920   400000  400000.00000      0.00000\n",
       "26107   673600  673600.00000      0.00000\n",
       "15776   370000  370000.00000      0.00000\n",
       "\n",
       "[6069 rows x 3 columns]"
      ]
     },
     "execution_count": 53,
     "metadata": {},
     "output_type": "execute_result"
    }
   ],
   "source": [
    "df_prediction.sort_values(by='Selisih',ascending=False)"
   ]
  },
  {
   "cell_type": "code",
   "execution_count": 54,
   "metadata": {},
   "outputs": [
    {
     "data": {
      "text/plain": [
       "57267.336616186105"
      ]
     },
     "execution_count": 54,
     "metadata": {},
     "output_type": "execute_result"
    }
   ],
   "source": [
    "mean_absolute_error(y_test,prediction)"
   ]
  },
  {
   "cell_type": "code",
   "execution_count": 55,
   "metadata": {},
   "outputs": [
    {
     "data": {
      "text/plain": [
       "0.8650086989521776"
      ]
     },
     "execution_count": 55,
     "metadata": {},
     "output_type": "execute_result"
    }
   ],
   "source": [
    "r2_score(y_test,prediction)"
   ]
  },
  {
   "cell_type": "code",
   "execution_count": 56,
   "metadata": {},
   "outputs": [
    {
     "data": {
      "text/plain": [
       "<matplotlib.axes._subplots.AxesSubplot at 0x1a203bb748>"
      ]
     },
     "execution_count": 56,
     "metadata": {},
     "output_type": "execute_result"
    },
    {
     "data": {
      "image/png": "[encoded data removed]",
      "text/plain": [
       "<Figure size 1080x1080 with 1 Axes>"
      ]
     },
     "metadata": {
      "needs_background": "light"
     },
     "output_type": "display_data"
    }
   ],
   "source": [
    "plt.figure(figsize=(15,15))\n",
    "feature_importance = pd.Series(model.feature_importances_,index=x.columns).sort_values(ascending=False).head(10)\n",
    "sns.barplot(x=feature_importance.values , y = feature_importance.index)"
   ]
  },
  {
   "cell_type": "markdown",
   "metadata": {},
   "source": [
    "## Export Model"
   ]
  },
  {
   "cell_type": "code",
   "execution_count": 57,
   "metadata": {},
   "outputs": [],
   "source": [
    "import pickle"
   ]
  },
  {
   "cell_type": "code",
   "execution_count": 58,
   "metadata": {},
   "outputs": [],
   "source": [
    "filename = 'finalized_model.sav'\n",
    "pickle.dump(model, open(filename, 'wb'))"
   ]
  },
  {
   "cell_type": "code",
   "execution_count": 59,
   "metadata": {},
   "outputs": [],
   "source": [
    "filename = 'x_dummies_colomn.sav'\n",
    "pickle.dump(x_y.columns, open(filename , 'wb'))"
   ]
  },
  {
   "cell_type": "code",
   "execution_count": 60,
   "metadata": {},
   "outputs": [],
   "source": [
    "filename = 'real_colomn.sav'\n",
    "pickle.dump(df.drop('Price',axis=1).columns, open(filename , 'wb'))"
   ]
  },
  {
   "cell_type": "code",
   "execution_count": 61,
   "metadata": {},
   "outputs": [
    {
     "data": {
      "text/plain": [
       "array(['klcc', 'dutamas', 'bukit jalil', 'taman tun dr ismail',\n",
       "       'sri petaling', 'mont kiara', 'desa parkcity', 'damansara heights',\n",
       "       'bangsar south', 'kepong', 'ampang hilir',\n",
       "       'jalan klang lama (old klang road)', 'sungai besi', 'kl city',\n",
       "       'kl sentral', 'taman melawati', 'setapak', 'city centre',\n",
       "       'taman desa', 'sentul', 'segambut', 'wangsa maju', 'batu caves',\n",
       "       'bangsar', 'setiawangsa', 'jalan sultan ismail', 'jalan kuching',\n",
       "       'bandar menjalara', 'cheras', 'ampang', 'sunway spk',\n",
       "       'kl eco city', 'pantai', 'bukit bintang', 'kuchai lama', 'seputeh',\n",
       "       'jalan ipoh', 'oug', 'desa pandan', 'brickfields',\n",
       "       'bukit tunku (kenny hills)', 'sri hartamas', 'desa petaling',\n",
       "       'bandar damai perdana', 'keramat', 'salak selatan', 'titiwangsa',\n",
       "       'country heights damansara'], dtype=object)"
      ]
     },
     "execution_count": 61,
     "metadata": {},
     "output_type": "execute_result"
    }
   ],
   "source": [
    "df.Location.unique()"
   ]
  },
  {
   "cell_type": "code",
   "execution_count": 62,
   "metadata": {},
   "outputs": [
    {
     "name": "stdout",
     "output_type": "stream",
     "text": [
      "<class 'pandas.core.frame.DataFrame'>\n",
      "Int64Index: 24274 entries, 2 to 44635\n",
      "Data columns (total 8 columns):\n",
      "Location               24274 non-null object\n",
      "Rooms                  24274 non-null int64\n",
      "Bathrooms              24274 non-null int64\n",
      "Furnishing             24274 non-null object\n",
      "Property Type Group    24274 non-null object\n",
      "Size Type              24274 non-null object\n",
      "Size Num               24274 non-null float64\n",
      "Price                  24274 non-null int64\n",
      "dtypes: float64(1), int64(3), object(4)\n",
      "memory usage: 1.7+ MB\n"
     ]
    }
   ],
   "source": [
    "x_y.info()"
   ]
  },
  {
   "cell_type": "code",
   "execution_count": 63,
   "metadata": {},
   "outputs": [
    {
     "data": {
      "text/plain": [
       "array(['Condominium', 'Apartment', 'Serviced Residence',\n",
       "       'Terrace/Link House', 'Townhouse', 'Flat', 'Semi-detached House',\n",
       "       'Bungalow'], dtype=object)"
      ]
     },
     "execution_count": 63,
     "metadata": {},
     "output_type": "execute_result"
    }
   ],
   "source": [
    "x_y['Property Type Group'].unique()"
   ]
  }
 ],
 "metadata": {
  "kernelspec": {
   "display_name": "Python 3",
   "language": "python",
   "name": "python3"
  },
  "language_info": {
   "codemirror_mode": {
    "name": "ipython",
    "version": 3
   },
   "file_extension": ".py",
   "mimetype": "text/x-python",
   "name": "python",
   "nbconvert_exporter": "python",
   "pygments_lexer": "ipython3",
   "version": "3.7.3"
  }
 },
 "nbformat": 4,
 "nbformat_minor": 2
}
